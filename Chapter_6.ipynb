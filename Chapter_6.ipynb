{
  "nbformat": 4,
  "nbformat_minor": 0,
  "metadata": {
    "colab": {
      "name": "Chapter_6.ipynb",
      "provenance": [],
      "authorship_tag": "ABX9TyMCBPI5Ni/9f3zEc3fnfUky",
      "include_colab_link": true
    },
    "kernelspec": {
      "name": "python3",
      "display_name": "Python 3"
    }
  },
  "cells": [
    {
      "cell_type": "markdown",
      "metadata": {
        "id": "view-in-github",
        "colab_type": "text"
      },
      "source": [
        "<a href=\"https://colab.research.google.com/github/tanasrad/Machine_Learning_with_R/blob/master/Chapter_6.ipynb\" target=\"_parent\"><img src=\"https://colab.research.google.com/assets/colab-badge.svg\" alt=\"Open In Colab\"/></a>"
      ]
    },
    {
      "cell_type": "markdown",
      "metadata": {
        "id": "mUxIkFGKvc_O",
        "colab_type": "text"
      },
      "source": [
        "## Chapter 6 - Forecasting Numeric Data. Regression Methods"
      ]
    },
    {
      "cell_type": "code",
      "metadata": {
        "id": "R3rkJyY5vTzZ",
        "colab_type": "code",
        "colab": {}
      },
      "source": [
        ""
      ],
      "execution_count": 0,
      "outputs": []
    }
  ]
}