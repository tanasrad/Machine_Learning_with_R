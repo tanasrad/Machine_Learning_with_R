{
  "nbformat": 4,
  "nbformat_minor": 0,
  "metadata": {
    "colab": {
      "name": "Copy of Chapter_6_R.ipynb",
      "provenance": [],
      "authorship_tag": "ABX9TyP29gSwiCWTwPkwmnJHtXkR",
      "include_colab_link": true
    },
    "kernelspec": {
      "name": "ir",
      "display_name": "R"
    }
  },
  "cells": [
    {
      "cell_type": "markdown",
      "metadata": {
        "id": "view-in-github",
        "colab_type": "text"
      },
      "source": [
        "<a href=\"https://colab.research.google.com/github/tanasrad/Machine_Learning_with_R/blob/master/Copy_of_Chapter_6_R.ipynb\" target=\"_parent\"><img src=\"https://colab.research.google.com/assets/colab-badge.svg\" alt=\"Open In Colab\"/></a>"
      ]
    },
    {
      "cell_type": "markdown",
      "metadata": {
        "id": "1VlzORfm9sKd",
        "colab_type": "text"
      },
      "source": [
        "# Chapter 6 - Forecasting Numeric Data. Regression Methods\n",
        "\n",
        "Lantz, B. (2019) - Machine Learning with R. Expert techniques for predicitive modeling. [p. 167 - 216]"
      ]
    },
    {
      "cell_type": "markdown",
      "metadata": {
        "id": "UwmQ6yx-9tKB",
        "colab_type": "text"
      },
      "source": [
        "Using real-world data and prediction tasks, this chapter gives an introduction to techniques for estimating relationships among numeric data. This includes:\n",
        "\n",
        "*   The basics of regression analysis, a set of statistical processes for modelling the size and strength of numeric relationships.\n",
        "*   How to prepare data and interpret the regression models.\n",
        "*   An overview of different techniques on how to adapt decision tree classifiers for numeric prediction tasks.\n",
        "\n",
        "**Vorwissen über decision tree classifiers ist von vorteil (chapter 5).**\n",
        "\n",
        "---"
      ]
    },
    {
      "cell_type": "markdown",
      "metadata": {
        "id": "LHTe5-dM9wkC",
        "colab_type": "text"
      },
      "source": [
        "## Part A - Basics of regression analysis\n",
        "\n",
        "Regression analysis is amongst the most widely used methods in science and especially machine learning. In particular, it can helpt to gain insight about a set of data which can helpt to explain the past and extrapolate into the future. This method can be applied to scientific studies, such as in the fields of economics, physics or psychology, for example to quantify the relationship between a dependent variable (the value to be predicted) and one or more independent variables (the predictors), or to identify patterns that can be used to forecast future behaviour. In statistical modelling this process is known as regression analysis, which will be introduced in the following sections. "
      ]
    },
    {
      "cell_type": "markdown",
      "metadata": {
        "id": "PYN4DB1i9zT3",
        "colab_type": "text"
      },
      "source": [
        "### Understanding regression\n",
        "\n",
        "Recall that a line in the classical cartesian xy-plane can be defined in the form\n",
        "$$\n",
        "y=a+bx\n",
        "$$\n",
        "where $y$ indicates the dependent variable ($y$ is to be predicted) and $x$ the indipendent variable (the predictor). The slope of that line is specified by the term $b$ and indicates an increasing line if positive, and a decreasingand if negative. The intercept with the y-axis is given by the term $a$ (when $x=0$).\n",
        "\n",
        "In machine learning a similar format of that equation is used, where the purpose of the machine is to identify values of $a$ and $b$ such that the specified line is able to describe the relationship between the supplied values $x$ to the values of $y$ in the best possible way. In practice it is rarely the case that the function perfectly relates those values, so the machine quantifies this error with an additional term. Hence, the smaller that error term, the better is the function to explain the relationship between the $y$ and $x$. \n",
        "\n",
        "This chapter focuses on the most basic regression models, the so-called **linear** regression models, since they use straight lines to explain the relationships. In the case of only one independent variable ($x_1$) it is called a **simple** linear regression, in the case of two or more independent variables ($x_1, x_2, ..., x_n$) it is known as **multiple** linear regression. "
      ]
    },
    {
      "cell_type": "markdown",
      "metadata": {
        "id": "cr79Xdbo96jH",
        "colab_type": "text"
      },
      "source": [
        "## Simple linear regression\n",
        "\n",
        "A simple linear regression model uses a line defined by an equation in the form\n",
        "\n",
        "$$\n",
        "y = \\alpha + \\beta x\n",
        "$$\n",
        "\n",
        "to explain the relationship between a dependent variable and a single independent variable. This equation is identical to the equation described previously.  \n"
      ]
    }
  ]
}