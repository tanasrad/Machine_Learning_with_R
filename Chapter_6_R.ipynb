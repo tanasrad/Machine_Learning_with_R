{
  "nbformat": 4,
  "nbformat_minor": 0,
  "metadata": {
    "colab": {
      "name": "Chapter_6_R.ipynb",
      "provenance": [],
      "authorship_tag": "ABX9TyOhBloSD7ZFY5LS9F5XqKth"
    },
    "kernelspec": {
      "name": "ir",
      "display_name": "R"
    }
  },
  "cells": [
    {
      "cell_type": "markdown",
      "metadata": {
        "id": "1VlzORfm9sKd",
        "colab_type": "text"
      },
      "source": [
        "# Chapter 6 - Forecasting Numeric Data. Regression Methods\n",
        "\n",
        "Lantz, B. (2019) - Machine Learning with R. Expert techniques for predicitive modeling. [p. 167 - 216]"
      ]
    },
    {
      "cell_type": "markdown",
      "metadata": {
        "id": "UwmQ6yx-9tKB",
        "colab_type": "text"
      },
      "source": [
        "Using real-world data and prediction tasks, this chapter gives an introduction to techniques for estimating relationships among numeric data. This includes:\n",
        "\n",
        "*   The basics of regression analysis, a set of statistical processes for modelling the size and strength of numeric relationships.\n",
        "*   How to prepare data and interpret the regression models.\n",
        "*   An overview of different techniques on how to adapt decision tree classifiers for numeric prediction tasks.\n",
        "\n",
        "**Vorwissen über decision tree classifiers ist von vorteil (chapter 5).**\n",
        "\n",
        "---"
      ]
    },
    {
      "cell_type": "markdown",
      "metadata": {
        "id": "LHTe5-dM9wkC",
        "colab_type": "text"
      },
      "source": [
        "## Part A - Basics of regression analysis\n",
        "\n",
        "Regression analysis is amongst the most widely used methods in science and especially machine learning. In particular, it can helpt to gain insight about a set of data which can helpt to explain the past and extrapolate into the future. This method can be applied to scientific studies, such as in the fields of economics, physics or psychology, for example to quantify the relationship between a dependent variable (the value to be predicted) and one or more independent variables (the predictors), or to identify patterns that can be used to forecast future behaviour. In statistical modelling this process is known as regression analysis, which will be introduced in the following sections. "
      ]
    },
    {
      "cell_type": "markdown",
      "metadata": {
        "id": "r2HWomcAkEhp",
        "colab_type": "text"
      },
      "source": [
        "### **Understanding regression**"
      ]
    },
    {
      "cell_type": "markdown",
      "metadata": {
        "id": "PYN4DB1i9zT3",
        "colab_type": "text"
      },
      "source": [
        "Recall that a line in the classical cartesian xy-plane can be defined in the form\n",
        "$$\n",
        "y=a+bx\n",
        "$$\n",
        "where $y$ indicates the dependent variable ($y$ is to be predicted) and $x$ the indipendent variable (the predictor). The slope of that line is specified by the term $b$ and indicates an increasing line if positive, and a decreasingand if negative. The intercept with the y-axis is given by the term $a$ (when $x=0$).\n",
        "\n",
        "In machine learning a similar format of that equation is used, where the purpose of the machine is to identify values of $a$ and $b$ such that the specified line is able to describe the relationship between the supplied values $x$ to the values of $y$ in the best possible way. In practice it is rarely the case that the function perfectly relates those values, so the machine quantifies this error with an additional term. Hence, the smaller that error term, the better is the function to explain the relationship between the $y$ and $x$. \n",
        "\n",
        "This chapter focuses on the most basic regression models, the so-called **linear** regression models, since they use straight lines to explain the relationships. In the case of only one independent variable ($x_1$) it is called a **simple** linear regression, in the case of two or more independent variables ($x_1, x_2, ..., x_n$) it is known as **multiple** linear regression. "
      ]
    },
    {
      "cell_type": "markdown",
      "metadata": {
        "id": "5IBzdy6nkMww",
        "colab_type": "text"
      },
      "source": [
        "### **Simple linear regression**"
      ]
    },
    {
      "cell_type": "markdown",
      "metadata": {
        "id": "cr79Xdbo96jH",
        "colab_type": "text"
      },
      "source": [
        "A simple linear regression model uses a line defined by an equation in the form\n",
        "\n",
        "$$\n",
        "y = \\alpha + \\beta x\n",
        "$$\n",
        "\n",
        "to explain the relationship between a dependent variable and a single independent variable. This equation is identical to the equation described previously, beside from the Greek characters which indicate variables that are parameters of statistical functions. As stated above, those parameters (or its estimates) however can be evaluated by performing a regression analysis. Using data from the space shuttle \"Challenger\" launch in 1986 (which went terribly wrong) will give a glimpse how such an analysis can help to gain insight about the data and to test hypotheses. \n",
        "\n",
        "Hence, a regression model that demonstrates the connection between O-ring failures (the dependent variable $y$) and the outside temperature during launch (the independent variable $x$, i.e. the predictor) could predict the possibility of failure given the expected temperature at launch. Since the parameters $\\alpha$ and $\\beta$ are necessary *ingredients* to form a line through the data set, finding their values is inevitable. As usual in real-world problems, finding an exact value, meaning the line passes through every measured data point exactly, is very unlikely. Instead, the line will rather somewhat evenly \"cut\" through the data. Therefore, the resulting values for the parameters (if error > 0) are considered *parameter estimates*. The best estimates are online the ones which generate the smallest error possible. To identify the optimal paramters such that the line is closest to the data points an estimation method known as **ordinary least squares (OLS)** is applied. \n",
        "\n",
        "Note that the term *line* is meant as the solucion space of the equation $y = \\alpha + \\beta$. Values on that line, i.e. the line itself, are predictions made by the regression model. If the observed data point is below or above the predicted solution, the error is greater than 0, since the vertical distance from the prediction to the true value is > 0."
      ]
    },
    {
      "cell_type": "markdown",
      "metadata": {
        "id": "SYQz-_18aAc8",
        "colab_type": "text"
      },
      "source": [
        "#### **Ordinary least squares estimation**\n",
        "\n",
        "Estimating the optimal values for the parameters $\\alpha$ and $\\beta$ means finding the optimal value for the intercept $\\alpha$ and the slope $\\beta$ such that the deviation of the predicted values ($\\hat{y}$) from the actual value ($y$) is as small as possible. Statistically speaking, *errors* are referred to as **residuals**. In OLS regression, the estimated values for the parameters are chosen such that the **sum of the squared errors (SSE)** is minimal. Mathematically speaking, the goal of OLS regression is to minimise following equation: \n",
        "\n",
        "$$\n",
        "\\sum{(y_i - \\hat{y_i})^2} = \\sum{e^2_i},\n",
        "$$\n",
        "\n",
        "where $y_i$ is the actual value and $\\hat{y_i}$ the value the regression model has predicted. The difference between those values is the residual, i.e. the error, denoted as $e$. Since the errors can be positive valued (over-estimation) or negative valued (under-estimation) they being squared to eliminate the negative values and summed across all points in the data. "
      ]
    },
    {
      "cell_type": "markdown",
      "metadata": {
        "id": "Qdcjrcp681G0",
        "colab_type": "text"
      },
      "source": [
        "##### **Evaluating solutions for for $\\alpha$ and $\\beta$**\n",
        "\n",
        "The solution for $\\alpha$ depends on $\\beta$. Thus, the value is obtained by applying simple algebra and solving following equation:\n",
        "\n",
        "$$\n",
        "\\alpha = \\bar{y} - \\beta\\bar{x},\n",
        "$$\n",
        "\n",
        "where $\\bar{y}$ and $\\bar{x}$ denotes the mean value of y and x, respectively. Calculating the slope of the regression model requires a bit more calculus and is calculated by solving \n",
        "\n",
        "\\begin{equation}\n",
        "\\beta = \\frac{\\sum{(x_i - \\bar{x})(y_i - \\bar{y})}}{\\sum{(x_i - \\bar{x})^2}}.\n",
        "\\end{equation}\n",
        "\n",
        "By breaking up the equation into its components, it becomes evident that the slope $\\beta$ can be calculated by dividing the covariance by the variance of the independent variable:\n",
        "\n",
        "$$\n",
        "\\beta = \\frac{\\mathrm{Cov}(x,y)}{\\mathrm{Var}(x)}\n",
        "$$\n",
        "\n",
        "For the sake of convenience no proof will be given for the equation of $\\beta$, the interested reader however can consult standard statistical books if interested. Having those statements as the basis, it is no hurdle to calculate the slope and the intercept of the regression model using built-in R functions, i.e. finding the values for $\\alpha$ and $\\beta$. This will be demonstrated on the dataset `challenger.csv` from the Packt Publishing website.\n",
        "\n",
        "First, the data has to be stored in a dataframe. Note that the independent variable $x$ is named `temperature` and the dependent variable $y$ is named `distress_ct`. "
      ]
    },
    {
      "cell_type": "code",
      "metadata": {
        "id": "2p2iNuiC-Agy",
        "colab_type": "code",
        "colab": {}
      },
      "source": [
        "# load data from github-repository\n",
        "url <- \"https://raw.githubusercontent.com/tanasrad/Machine_Learning_with_R/master/Ch6/challenger.csv\"\n",
        "launch <- read.csv(url)"
      ],
      "execution_count": 2,
      "outputs": []
    },
    {
      "cell_type": "markdown",
      "metadata": {
        "id": "xPHg59bNBG4J",
        "colab_type": "text"
      },
      "source": [
        "Using built-in R functions for the calculation of covariance and variance is straightforward. Keep in mind that the independent variable $x$ is `temperature` and the value to be predicted, $y$ is the independent variable `distress_ct`. Thus, $\\beta$ is manually calculated using Cov(x,y) and Var(x):"
      ]
    },
    {
      "cell_type": "code",
      "metadata": {
        "id": "az8o5yC0BBMR",
        "colab_type": "code",
        "colab": {
          "base_uri": "https://localhost:8080/",
          "height": 35
        },
        "outputId": "c20e29b5-4959-4bdd-e308-be42d7de5863"
      },
      "source": [
        "# estimate beta manually\n",
        "b <- cov(launch$temperature, launch$distress_ct) / var(launch$temperature)\n",
        "b"
      ],
      "execution_count": 3,
      "outputs": [
        {
          "output_type": "display_data",
          "data": {
            "text/plain": [
              "[1] -0.04753968"
            ],
            "text/latex": "-0.0475396825396825",
            "text/markdown": "-0.0475396825396825",
            "text/html": [
              "-0.0475396825396825"
            ]
          },
          "metadata": {
            "tags": []
          }
        }
      ]
    },
    {
      "cell_type": "markdown",
      "metadata": {
        "id": "3EHho-xWCe-M",
        "colab_type": "text"
      },
      "source": [
        "The rounded result is -0.0475. The negative slope indicates already that for increasing values in $x$, the value for $y$ will decrease. Meaning, the `distress_ct` will deacrease by a factor of 0.0475 with increasing `temperature`. \n",
        "\n",
        "Using the computed slope, the value for the intercept $\\alpha$ can be computed, also manually using built-in R functions:"
      ]
    },
    {
      "cell_type": "code",
      "metadata": {
        "id": "BdoR0TXeCdAu",
        "colab_type": "code",
        "colab": {
          "base_uri": "https://localhost:8080/",
          "height": 35
        },
        "outputId": "89853610-bb87-4e72-df04-ef9511ac4ce5"
      },
      "source": [
        "# estimate alpha manually\n",
        "a <- mean(launch$distress_ct) - b * mean(launch$temperature)\n",
        "a"
      ],
      "execution_count": 4,
      "outputs": [
        {
          "output_type": "display_data",
          "data": {
            "text/plain": [
              "[1] 3.698413"
            ],
            "text/latex": "3.6984126984127",
            "text/markdown": "3.6984126984127",
            "text/html": [
              "3.6984126984127"
            ]
          },
          "metadata": {
            "tags": []
          }
        }
      ]
    },
    {
      "cell_type": "markdown",
      "metadata": {
        "id": "2NVX0n_PIJWm",
        "colab_type": "text"
      },
      "source": [
        "Even though calculating the values manually for $\\alpha$ and $\\beta$ is not ideal, to further understand the regression model's fit it is usefull to first learn a method for measuring the strength of a linear relationship. Afterwards, the more sophisticated way of carrying out linear regressions with the lm-function will be introduced, as well as how to apply multiple linear regressions to problems with mulitple independent varibles. "
      ]
    },
    {
      "cell_type": "markdown",
      "metadata": {
        "id": "NdLNpWIEKOym",
        "colab_type": "text"
      },
      "source": [
        "##### **With Correlations**\n",
        "\n",
        "Correlation coefficients are very useful to express the linear relationship between two variables. Hence, the coefficient indicates how closely their relationship follows a straight line. The best-known correlation coefficient is the **Pearson correlation coefficient**, which ranges between +1 and -1. A correlation of zero indicates no linear relationship, the maximum and minimum values indicate that the variables are perfectly correlated. Furthermore, a correlation coefficient of +1 indicates a perfect positive correlation, where the two variables behave in the same way, and a correlation coefficient of -1 in contrast is a perfect correlation, but the variables are behaving in the exact oposite way. \n",
        "\n",
        "The Pearson's correlation is defined as:\n",
        "\n",
        "$$\n",
        "\\rho_{x,y} = \\mathrm{Corr}(x,y) = \\frac{\\mathrm{Cov}(x,y)}{\\sigma_x \\sigma_y},\n",
        "$$\n",
        "\n",
        "where $\\sigma$ denotes the standard deviation of x and y, repsecitvely. Applying this formula, the correlation between the launch `temperature` and the number of O-ring `distress_ct` events can also be computed manually using built-in R functions:"
      ]
    },
    {
      "cell_type": "markdown",
      "metadata": {
        "id": "7J2IVbaVHoy-",
        "colab_type": "text"
      },
      "source": [
        "Clearly, this isn't the most sophisticated way to calculate the values for $\\alpha$ and $\\beta$, it is nonetheless important to "
      ]
    },
    {
      "cell_type": "code",
      "metadata": {
        "id": "jmI_LqTiWdf4",
        "colab_type": "code",
        "colab": {
          "base_uri": "https://localhost:8080/",
          "height": 35
        },
        "outputId": "3815d39c-75ce-440e-e303-c4b4f220226d"
      },
      "source": [
        "# calculate the correlation of launch data manually\n",
        "r <- cov(launch$temperature, launch$distress_ct) /\n",
        "       (sd(launch$temperature) * sd(launch$distress_ct))\n",
        "r"
      ],
      "execution_count": 5,
      "outputs": [
        {
          "output_type": "display_data",
          "data": {
            "text/plain": [
              "[1] -0.5111264"
            ],
            "text/latex": "-0.511126385574056",
            "text/markdown": "-0.511126385574056",
            "text/html": [
              "-0.511126385574056"
            ]
          },
          "metadata": {
            "tags": []
          }
        }
      ]
    },
    {
      "cell_type": "markdown",
      "metadata": {
        "id": "4wphJkHpWw-W",
        "colab_type": "text"
      },
      "source": [
        "Alternatively, using the R-function cor() leads, not surprisingly, to the same result:"
      ]
    },
    {
      "cell_type": "code",
      "metadata": {
        "id": "SfVcn_GEIJ2h",
        "colab_type": "code",
        "colab": {
          "base_uri": "https://localhost:8080/",
          "height": 35
        },
        "outputId": "4ea5150f-a0bb-4a67-a264-1bd7c9575f43"
      },
      "source": [
        "# check with the built-in function\n",
        "cor(launch$temperature, launch$distress_ct)"
      ],
      "execution_count": 6,
      "outputs": [
        {
          "output_type": "display_data",
          "data": {
            "text/plain": [
              "[1] -0.5111264"
            ],
            "text/latex": "-0.511126385574056",
            "text/markdown": "-0.511126385574056",
            "text/html": [
              "-0.511126385574056"
            ]
          },
          "metadata": {
            "tags": []
          }
        }
      ]
    },
    {
      "cell_type": "markdown",
      "metadata": {
        "id": "ZcBwHam3W-r0",
        "colab_type": "text"
      },
      "source": [
        "As stated at the beginning of this section, negative correlations imply a reverse relationship, i.e. an increase in the dependent variable `temperature` ($x$) is related to a decrease in `distres_ct` $(y)$. Since the value -0.5111 is halfway ot the maximum -1, this implies that there is a non-neglectiable negative linear association. One **rule of thumb** interprets correlation strength as \"weak\" if the values are between 0.1 and 0.3, \"moderate\" in the range between 0.3 and 0.5, and \"strong\" for values above 0.5. However, this is only a rule of thumb and correlation should always be interpreted in context! Nevertheless, investigating linear relationships among independent variables and the dependent variables will be important for understanding regression models on with larger numbers of predictors. "
      ]
    },
    {
      "cell_type": "markdown",
      "metadata": {
        "id": "yZpKZN3Ho8Dv",
        "colab_type": "text"
      },
      "source": [
        "However, the slope of the regression model can also be calculated using the correlation coefficient:\n",
        "\n",
        "$$\n",
        "\\beta = \\frac{\\mathrm{Cov}(x,y)}{\\sigma_x \\sigma_y} \\cdot \\frac{\\sigma_y}{\\sigma_x} = \\rho_{x,y} \\cdot \\frac{\\sigma_y}{\\sigma_x}\n",
        "$$"
      ]
    },
    {
      "cell_type": "code",
      "metadata": {
        "id": "0ZuH5aj2WjuG",
        "colab_type": "code",
        "colab": {
          "base_uri": "https://localhost:8080/",
          "height": 35
        },
        "outputId": "0ff6412f-7557-49ce-b216-c97cc7745ff0"
      },
      "source": [
        "# computing the slope (beta) manually using correlation\n",
        "r * (sd(launch$distress_ct) / sd(launch$temperature))"
      ],
      "execution_count": 7,
      "outputs": [
        {
          "output_type": "display_data",
          "data": {
            "text/plain": [
              "[1] -0.04753968"
            ],
            "text/latex": "-0.0475396825396825",
            "text/markdown": "-0.0475396825396825",
            "text/html": [
              "-0.0475396825396825"
            ]
          },
          "metadata": {
            "tags": []
          }
        }
      ]
    },
    {
      "cell_type": "markdown",
      "metadata": {
        "id": "6fVCwHx-h2VQ",
        "colab_type": "text"
      },
      "source": [
        "The slope of the regression model is -0.04754, were not surprisingly both ways of manually calculating the value for $\\beta$ yields the same result. \n",
        "Such simple linear regressions are commonly carried out using the built-in lm function, which was written to fit linear models. It can be used to carry out regressions, single stratum analysis of variance and analysis of covariance. Everything that was described beforehand could have been done with this lm function. Applying the function is simple, the first input `formula` asks for the specifications, which dependent variable should be modelled by which predictor. The `~` operator can be read as \"is being modelled by\". An expression of the form `y ~ model` is interpreted as `y` is modelled by a linear predictor specified symbolically by `model`. In the code below this means `distress_ct` is being modelled by `temperature`. The secont argument `data` asks to specify, from which data set the value for `y` and `x` shoult be taken from. If nothing else is specified, this function will use the default values for the remaining parameters and performing an OLS-regression . The results will be nicely structured, which is very helpful if one is calculating a regression on multiple independent variables. "
      ]
    },
    {
      "cell_type": "code",
      "metadata": {
        "id": "Ax7h5pCDhu52",
        "colab_type": "code",
        "colab": {
          "base_uri": "https://localhost:8080/",
          "height": 145
        },
        "outputId": "db4614f7-bfef-40aa-b2f9-4879f8e13ae8"
      },
      "source": [
        "# confirming the regression line using the lm function\n",
        "model <- lm(distress_ct ~ temperature, data = launch)\n",
        "model"
      ],
      "execution_count": 8,
      "outputs": [
        {
          "output_type": "display_data",
          "data": {
            "text/plain": [
              "\n",
              "Call:\n",
              "lm(formula = distress_ct ~ temperature, data = launch)\n",
              "\n",
              "Coefficients:\n",
              "(Intercept)  temperature  \n",
              "    3.69841     -0.04754  \n"
            ]
          },
          "metadata": {
            "tags": []
          }
        }
      ]
    },
    {
      "cell_type": "markdown",
      "metadata": {
        "id": "qBIYfnu8nuZ1",
        "colab_type": "text"
      },
      "source": [
        "The output shows the values 3.69841 for the intercept $\\alpha$ and -0.04754 for the slope $\\beta$, matching the manual calculations. If a thorough statistical analysis of the regression analysis is required, the function `summary` provides a useful summary of the entire model, including an analysis on the residuals, statistical significance of the results, the R-squared, the t and p-values. "
      ]
    },
    {
      "cell_type": "code",
      "metadata": {
        "id": "YyC9vSLKkAkh",
        "colab_type": "code",
        "colab": {
          "base_uri": "https://localhost:8080/",
          "height": 345
        },
        "outputId": "b2072a72-d1db-4ada-9109-847074d13378"
      },
      "source": [
        "summary(model)"
      ],
      "execution_count": 9,
      "outputs": [
        {
          "output_type": "display_data",
          "data": {
            "text/plain": [
              "\n",
              "Call:\n",
              "lm(formula = distress_ct ~ temperature, data = launch)\n",
              "\n",
              "Residuals:\n",
              "    Min      1Q  Median      3Q     Max \n",
              "-0.5608 -0.3944 -0.0854  0.1056  1.8671 \n",
              "\n",
              "Coefficients:\n",
              "            Estimate Std. Error t value Pr(>|t|)   \n",
              "(Intercept)  3.69841    1.21951   3.033  0.00633 **\n",
              "temperature -0.04754    0.01744  -2.725  0.01268 * \n",
              "---\n",
              "Signif. codes:  0 ‘***’ 0.001 ‘**’ 0.01 ‘*’ 0.05 ‘.’ 0.1 ‘ ’ 1\n",
              "\n",
              "Residual standard error: 0.5774 on 21 degrees of freedom\n",
              "Multiple R-squared:  0.2613,\tAdjusted R-squared:  0.2261 \n",
              "F-statistic: 7.426 on 1 and 21 DF,  p-value: 0.01268\n"
            ]
          },
          "metadata": {
            "tags": []
          }
        }
      ]
    },
    {
      "cell_type": "markdown",
      "metadata": {
        "id": "CcCPGrnbkAPH",
        "colab_type": "text"
      },
      "source": [
        "Interpreting the summary of the regression `model` allows to conclude that the goodness-of-fit (**R-squared**) of the regression model is 0.2613, meaning that the model is able to explain 26.13% of the variance within the data. Basically, R-squared is the ratio of the variance explained by the model and the total variance of the data. Conceptually, the higher R-squared, the smaller the errors between predicted and acutal value, i.e. the closer are the actual data points to the line of the regression model. Logically, the R-squared would increase as more variables are included in the model. Therefore it's advicable to use the **adjusted R-squared** for multiple linear regressions. Another indicator for a good/poor fit is the **P-value**, which gives the probability of observing any value equal or larger than the **t-value**, which is the measure of how many standard deviations the coefficient is far away from 0. Hence, the greater the t-value, the better the model, i.e. higher indication of a relationship between the variables. The P-value for the coefficient is 0.6% which is considered as a good fit (also indicated by the **significance codes**). Hence, the lower the P-value the higher the significance of the estimate. A small value allows for the conclusion for the presence of relationships."
      ]
    },
    {
      "cell_type": "markdown",
      "metadata": {
        "id": "GS757hfyfElX",
        "colab_type": "text"
      },
      "source": [
        "As a concluding remark for this section, note that correlation does not imply causation, it rather describes the relationship between a pair of variables, yet there could be other unmeasured explanations. For the interested readers, what such false conclusions can lead to are shown on this website. Real-world cases that are highly correlated but have no causality whatsoever, known as spurious correlations. See: http://tylervigen.com/spurious-correlations\n"
      ]
    },
    {
      "cell_type": "markdown",
      "metadata": {
        "id": "3ZsUKA2OD9sy",
        "colab_type": "text"
      },
      "source": [
        "### **Multiple Linear Regressions**\n",
        "\n",
        "The multiple linear regression is understood as an extension of simple linear regressions. Both models have the same goal, namely to estimate the values of the slope coefficients which minimize the prediction error of a linear equation. As the name suggests, mulitple linear regressions allow for additional terms for the additional independent variables (predictors). \n",
        "\n",
        "Like any model in statistics and mathematics, multiple linear regressions also come with it's strengths and weaknesses. Multiple linear regressions ar by far the most common approach for modelling numeric data, and since most real-world analyses have more than one independent variable, it is likely this model is used for most numeric prediction tasks. It is so popular, because they can be adapted to model almost any task. However, it also makes strong assumptions about the data and are only suitable for numeric data. Categorical data for example would require additional preparation. Hence, a multiple regression models are in the form:\n",
        "\n",
        "$$\n",
        "y = \\underbrace{\\beta_0 x_0}_{\\alpha\\cdot 1} + \\beta_1 x_1 + \\beta_2 x_2 + ... + \\beta_i x_i + \\epsilon ,\n",
        "$$\n",
        "\n",
        "where $\\epsilon$ has been added to describe the error of the prediction. From the equation above it is noticable that each feature $x$ has a coefficient $\\beta$ provided. This allows the features to have a separated estimaed effect on the value of $y$. So, for each unit increase in feature $x_i$, the value of $y$ changes by the amount of the corresponding $\\beta_i$. If all independent variables are zero, the expected value of $y$ is consequently the intercept $\\alpha$, which is now denoted as $\\beta_0$, since it is no different than any other coefficient. However, the intercept is actually unrelated to any independent variable $x$, which is why $x_0$ equals 1. This form of notation is helpful because it allows the model to be written in matrix notation which makes the computation of the solution much easier."
      ]
    },
    {
      "cell_type": "markdown",
      "metadata": {
        "id": "otAlOF4GHiVw",
        "colab_type": "text"
      },
      "source": [
        "Since each observed value of the dependent variable $y$ must be related to observed values of the independent variables $x$ in order to estimate the regression parameters, the regression equation seen above can also be formulated as a system of equations. Looking closely at the betas in the equation above, it is noticable that beta ranges vom $\\beta_0$ to $\\beta_i$. Writing all beta next to each other would simplified look like $[\\beta_0, \\beta_1, \\beta_2, ..., \\beta_i]$. Such an array of values is known as a vector, whereas vectors are written in bold letters to indicate that each of the terms represents multiple values. Applying the same logic to the values of $x$ would result in the same array, like $[x_0, x_1, x_2, ..., x_i]$. Writing each variable in vector form (bold letters are vectors) results ins\n",
        "\n",
        "$$\n",
        "\\mathbf{y} = \\begin{bmatrix} y_1 \\\\ y_2 \\\\ \\vdots \\\\ y_n \\end{bmatrix}, \\quad \\boldsymbol{\\beta} = \\begin{bmatrix} \\beta_0 \\\\ \\beta_1 \\\\ \\beta_2 \\\\ \\vdots \\\\ \\beta_p \\end{bmatrix}, \\quad \\mathbf{X} = \\begin{bmatrix} 1 & X_{11} & \\cdots & X_{1p} \\\\ 1 & X_{21} & \\cdots & X_{1p} \\\\ \\vdots & \\vdots & \\ddots & \\vdots \\\\ 1 & X_{n1} & \\cdots & X_{np} \\end{bmatrix}, \\quad \\boldsymbol{\\epsilon} = \\begin{bmatrix} \\epsilon_1 \\\\ \\epsilon_2 \\\\ \\vdots \\\\ \\epsilon_n \\end{bmatrix}.\n",
        "$$\n",
        "\n",
        "where $i = 1, ..., n$ and $p = n+1$. Note that the subscript $p$ which denotes what column in the matrix is +1 greater than $n$, which stands for the rownumbers. This is because $\\beta_0$ is not associated to any $x$ value. \n",
        "Using only the bold letters to indicate a vector of multiple values, the formula can be simplified to\n",
        "\n",
        "$$\n",
        "\\boldsymbol{Y = \\beta X + \\epsilon}\n",
        "$$\n",
        "\n",
        "The dependent variable $y$ ins now in matrix notation an array of multiple $y$ called vector, $\\mathbf{Y}$, with a row for every example. The independent variables $x$ have now been combined into a matrix, $\\mathbf{X}$, with a column for eacht feature plus that additional column of ones for the intercept. As for $\\mathbf{Y}$, each column has a row for every example. The same notation applies also for the regression coefficients $\\beta$ and the residuals $\\epsilon$, which are also vectors $\\boldsymbol{\\beta}$ and $\\boldsymbol{\\epsilon}$ now. As for the simple linear regression, the multiple regression seeks to find the $\\boldsymbol{\\beta}$ values that relate the $\\mathbf{X}$ values to $\\mathbf{Y}$ while minimising the sum of the squared errors $\\boldsymbol{\\epsilon}$. \n",
        "\n",
        "Finding the optimal solution requires the use of matrix algebra. Since the derivation is out of the scope here, the best estimate of the vector $\\boldsymbol{\\beta}$ will simply be stated as\n",
        "\n",
        "$$\n",
        "\\hat{\\beta} = (\\mathbf{X^TX})^{-1}\\mathbf{X^TY},\n",
        "$$\n",
        "\n",
        "where $\\mathbf{X^T}$ is the transpose of $\\mathbf{X}$ and the negative exponent indicates the matrix inverse. This OLS-approach however only works if the matrix $\\mathbf{X}$ is full-rank, i.e. it is necessary to have as many samples N (rows) as features $x$ (columns) (full column rank) to perform OLS. Otherwise, the inverse cannot be computed. In such cases, methods like the OLS, Cholesky decomposition, QR ar any other method which is equivalent to computing the inverse cannot be applied. A possibility would be to apply the Moore-Penrose method, which goes however beyond the scope here and will not be covered.\n",
        "\n",
        "To let the computer do the matrix algebra, it is necessary to create a simple multiple regression learner using built-in R functions. \n",
        "\n"
      ]
    },
    {
      "cell_type": "code",
      "metadata": {
        "id": "vNSCG9xGEEPf",
        "colab_type": "code",
        "colab": {}
      },
      "source": [
        "# creating a simple multiple regression function\n",
        "reg <- function(y, x) {\n",
        "  x <- as.matrix(x)\n",
        "  x <- cbind(Intercept = 1, x)\n",
        "  b <- solve(t(x) %*% x) %*% t(x) %*% y\n",
        "  colnames(b) <- \"estimate\"\n",
        "  print(b)\n",
        "}"
      ],
      "execution_count": 17,
      "outputs": []
    },
    {
      "cell_type": "markdown",
      "metadata": {
        "id": "tSlY-BSWi7u4",
        "colab_type": "text"
      },
      "source": [
        "This regression function `reg()` takes a parameter `y` and a parameter `x` as input, and returns a vector `b` of estimated beta coefficients. To do so, it has to transform the input `x` to a matrix and attach to this matrix a column named \"Intercept\" consisting only of ones, which are the x-values for the intercept, as explained above. Computing the beta estimates `b` requires the function `solve` which computes the matrix multiplication of `t(x)` and `x`, where `t(x)` the transpose of matrix `x` is. The operator `%*%` multiplies two matrices, i.e. multiplying each column, whereas using `*` to multiply would force R to perform an element-wise multiplication. As a result, the function `reg()` will return a vector `b`, which contains estimated parameters for the linear model. Applying the same Challenger launch data as previously requires to first examine the structure of the data:"
      ]
    },
    {
      "cell_type": "code",
      "metadata": {
        "id": "o_qEL7_Kizat",
        "colab_type": "code",
        "colab": {
          "base_uri": "https://localhost:8080/",
          "height": 108
        },
        "outputId": "9c8b2917-1643-4989-df81-2e33ce86b4d8"
      },
      "source": [
        "# examine the launch data\n",
        "str(launch)"
      ],
      "execution_count": 18,
      "outputs": [
        {
          "output_type": "stream",
          "text": [
            "'data.frame':\t23 obs. of  4 variables:\n",
            " $ distress_ct         : int  0 1 0 0 0 0 0 0 1 1 ...\n",
            " $ temperature         : int  66 70 69 68 67 72 73 70 57 63 ...\n",
            " $ field_check_pressure: int  50 50 50 50 50 50 100 100 200 200 ...\n",
            " $ flight_num          : int  1 2 3 4 5 6 7 8 9 10 ...\n"
          ],
          "name": "stdout"
        }
      ]
    },
    {
      "cell_type": "markdown",
      "metadata": {
        "id": "GRwCKTyQn4VP",
        "colab_type": "text"
      },
      "source": [
        "Taking the results from the previously performed simple linear regression, with the coefficients 3.70 for $\\alpha$ and -0.048 for $\\beta$, the function `reg` can be veryfied to be working correctly. As seen above, `temperature` is in the second column of the data frame, thus applying the function `reg` to this data set yield following results:"
      ]
    },
    {
      "cell_type": "code",
      "metadata": {
        "id": "XcQoLZBHnzrl",
        "colab_type": "code",
        "colab": {
          "base_uri": "https://localhost:8080/",
          "height": 72
        },
        "outputId": "8c4528fb-ebec-48a6-9aba-64e29edf99af"
      },
      "source": [
        "# test regression model with simple linear regression\n",
        "reg(y = launch$distress_ct, x = launch[2])"
      ],
      "execution_count": 19,
      "outputs": [
        {
          "output_type": "stream",
          "text": [
            "               estimate\n",
            "Intercept    3.69841270\n",
            "temperature -0.04753968\n"
          ],
          "name": "stdout"
        }
      ]
    },
    {
      "cell_type": "markdown",
      "metadata": {
        "id": "dQ31E28EouqL",
        "colab_type": "text"
      },
      "source": [
        "The values exactly match the prior results from the simple linear regression. This verifies that the `reg` function is working properly and allows to apply to the entire dataset to build a multiple regression model. It is important to specify that columns 2 to 4 are being used, doing so will add two additional predictors:"
      ]
    },
    {
      "cell_type": "code",
      "metadata": {
        "id": "Up2cnLuAoow1",
        "colab_type": "code",
        "colab": {
          "base_uri": "https://localhost:8080/",
          "height": 108
        },
        "outputId": "eaed6f37-a475-46b0-f2e0-01734eba5d92"
      },
      "source": [
        "# use regression model with multiple regression\n",
        "reg(y = launch$distress_ct, x = launch[2:4])"
      ],
      "execution_count": 20,
      "outputs": [
        {
          "output_type": "stream",
          "text": [
            "                         estimate\n",
            "Intercept             3.527093383\n",
            "temperature          -0.051385940\n",
            "field_check_pressure  0.001757009\n",
            "flight_num            0.014292843\n"
          ],
          "name": "stdout"
        }
      ]
    },
    {
      "cell_type": "markdown",
      "metadata": {
        "id": "02ioPNYUqLp3",
        "colab_type": "text"
      },
      "source": [
        "This new model predicts the number of O-ring distress events `distress_ct` by regressind the temperature, field check pressure and the launch ID number. Inspecting the results shows that the previous conclusion, that higher temperature would reduce the number of distress events did not change. Even the magnitude has not changed much (from -0.0475 to -0.0514). The additional two predictors, `field_check_pressure` and `flight_num` also contribute to the prediction of the distress events. However, the results indicate small but positive slopes for these estimates, meaning that rising field check pressure incerases the estimate for the number of distress events by only a factor of 0.00176. The coefficient for the flight number is also positive but small, hence providing at least a little evidence for the hypothesis. Since the `reg` function is a manually built regression model, the results will be compared to the built-in OLS model in R:"
      ]
    },
    {
      "cell_type": "code",
      "metadata": {
        "id": "Up1ppnm7pzg9",
        "colab_type": "code",
        "colab": {
          "base_uri": "https://localhost:8080/",
          "height": 199
        },
        "outputId": "e7a34708-ac40-4ef0-e220-7b125dd8a03d"
      },
      "source": [
        "# confirming the multiple regression result using the lm function (not in text)\n",
        "model <- lm(distress_ct ~ temperature + field_check_pressure + flight_num, data = launch)\n",
        "model"
      ],
      "execution_count": 21,
      "outputs": [
        {
          "output_type": "display_data",
          "data": {
            "text/plain": [
              "\n",
              "Call:\n",
              "lm(formula = distress_ct ~ temperature + field_check_pressure + \n",
              "    flight_num, data = launch)\n",
              "\n",
              "Coefficients:\n",
              "         (Intercept)           temperature  field_check_pressure  \n",
              "            3.527093             -0.051386              0.001757  \n",
              "          flight_num  \n",
              "            0.014293  \n"
            ]
          },
          "metadata": {
            "tags": []
          }
        }
      ]
    },
    {
      "cell_type": "markdown",
      "metadata": {
        "id": "sWlrhgjXiOrQ",
        "colab_type": "text"
      },
      "source": [
        "Indeed, the same results. Although this was a good example to show the fundamentals of linear regressions, this study only scratched the surface of what is possible with linear regression modelling. To experience more functionalities of the R-language, the next section provides a second example: predicting medical expenses using linear regression. The goal up to this point was to understand the basics of regression analysis, the following example aims to extend the knowledge of regression by attempting a more challenging task. The focus of this section will be on the code itself and the explanation of the regression process, rather than theoretical explanations."
      ]
    },
    {
      "cell_type": "markdown",
      "metadata": {
        "id": "PRGMiFkhv_wu",
        "colab_type": "text"
      },
      "source": [
        "##### **Example - predicting medical expenses using linear regression**\n",
        "\n",
        "The goal in this example is to create a regression model using patient data to forecast about the average medical care expenses for such population segments.\n",
        "\n"
      ]
    },
    {
      "cell_type": "markdown",
      "metadata": {
        "id": "DScd_q4hqceq",
        "colab_type": "text"
      },
      "source": [
        "##### **Step 1 - Data collection**"
      ]
    },
    {
      "cell_type": "code",
      "metadata": {
        "id": "1WILNBjcM_kx",
        "colab_type": "code",
        "colab": {
          "base_uri": "https://localhost:8080/",
          "height": 204
        },
        "outputId": "21466d83-b4f3-4b37-9163-5d2e39c85ef0"
      },
      "source": [
        "url_insurance <- \"https://raw.githubusercontent.com/tanasrad/Machine_Learning_with_R/master/Ch6/insurance.csv\"\n",
        "insurance <- read.csv(url_insurance)\n",
        "head(insurance)"
      ],
      "execution_count": 22,
      "outputs": [
        {
          "output_type": "display_data",
          "data": {
            "text/plain": [
              "  age sex    bmi  children smoker region    expenses\n",
              "1 19  female 27.9 0        yes    southwest 16884.92\n",
              "2 18  male   33.8 1        no     southeast  1725.55\n",
              "3 28  male   33.0 3        no     southeast  4449.46\n",
              "4 33  male   22.7 0        no     northwest 21984.47\n",
              "5 32  male   28.9 0        no     northwest  3866.86\n",
              "6 31  female 25.7 0        no     southeast  3756.62"
            ],
            "text/latex": "A data.frame: 6 × 7\n\\begin{tabular}{r|lllllll}\n  & age & sex & bmi & children & smoker & region & expenses\\\\\n  & <int> & <fct> & <dbl> & <int> & <fct> & <fct> & <dbl>\\\\\n\\hline\n\t1 & 19 & female & 27.9 & 0 & yes & southwest & 16884.92\\\\\n\t2 & 18 & male   & 33.8 & 1 & no  & southeast &  1725.55\\\\\n\t3 & 28 & male   & 33.0 & 3 & no  & southeast &  4449.46\\\\\n\t4 & 33 & male   & 22.7 & 0 & no  & northwest & 21984.47\\\\\n\t5 & 32 & male   & 28.9 & 0 & no  & northwest &  3866.86\\\\\n\t6 & 31 & female & 25.7 & 0 & no  & southeast &  3756.62\\\\\n\\end{tabular}\n",
            "text/markdown": "\nA data.frame: 6 × 7\n\n| <!--/--> | age &lt;int&gt; | sex &lt;fct&gt; | bmi &lt;dbl&gt; | children &lt;int&gt; | smoker &lt;fct&gt; | region &lt;fct&gt; | expenses &lt;dbl&gt; |\n|---|---|---|---|---|---|---|---|\n| 1 | 19 | female | 27.9 | 0 | yes | southwest | 16884.92 |\n| 2 | 18 | male   | 33.8 | 1 | no  | southeast |  1725.55 |\n| 3 | 28 | male   | 33.0 | 3 | no  | southeast |  4449.46 |\n| 4 | 33 | male   | 22.7 | 0 | no  | northwest | 21984.47 |\n| 5 | 32 | male   | 28.9 | 0 | no  | northwest |  3866.86 |\n| 6 | 31 | female | 25.7 | 0 | no  | southeast |  3756.62 |\n\n",
            "text/html": [
              "<table>\n",
              "<caption>A data.frame: 6 × 7</caption>\n",
              "<thead>\n",
              "\t<tr><th></th><th scope=col>age</th><th scope=col>sex</th><th scope=col>bmi</th><th scope=col>children</th><th scope=col>smoker</th><th scope=col>region</th><th scope=col>expenses</th></tr>\n",
              "\t<tr><th></th><th scope=col>&lt;int&gt;</th><th scope=col>&lt;fct&gt;</th><th scope=col>&lt;dbl&gt;</th><th scope=col>&lt;int&gt;</th><th scope=col>&lt;fct&gt;</th><th scope=col>&lt;fct&gt;</th><th scope=col>&lt;dbl&gt;</th></tr>\n",
              "</thead>\n",
              "<tbody>\n",
              "\t<tr><th scope=row>1</th><td>19</td><td>female</td><td>27.9</td><td>0</td><td>yes</td><td>southwest</td><td>16884.92</td></tr>\n",
              "\t<tr><th scope=row>2</th><td>18</td><td>male  </td><td>33.8</td><td>1</td><td>no </td><td>southeast</td><td> 1725.55</td></tr>\n",
              "\t<tr><th scope=row>3</th><td>28</td><td>male  </td><td>33.0</td><td>3</td><td>no </td><td>southeast</td><td> 4449.46</td></tr>\n",
              "\t<tr><th scope=row>4</th><td>33</td><td>male  </td><td>22.7</td><td>0</td><td>no </td><td>northwest</td><td>21984.47</td></tr>\n",
              "\t<tr><th scope=row>5</th><td>32</td><td>male  </td><td>28.9</td><td>0</td><td>no </td><td>northwest</td><td> 3866.86</td></tr>\n",
              "\t<tr><th scope=row>6</th><td>31</td><td>female</td><td>25.7</td><td>0</td><td>no </td><td>southeast</td><td> 3756.62</td></tr>\n",
              "</tbody>\n",
              "</table>\n"
            ]
          },
          "metadata": {
            "tags": []
          }
        }
      ]
    },
    {
      "cell_type": "markdown",
      "metadata": {
        "id": "9eFPC8LgOMJu",
        "colab_type": "text"
      },
      "source": [
        "A quick look on the data shows, that the variables `sex`, `smoker` and `region` are nominal values. However, it is important for this regression to include those variables aswell as factors. This is done by adding the attribute `stringAsFactors = TRUE` in the `read.csv()` command."
      ]
    },
    {
      "cell_type": "code",
      "metadata": {
        "id": "MumhDbL2O6Fw",
        "colab_type": "code",
        "colab": {
          "base_uri": "https://localhost:8080/",
          "height": 135
        },
        "outputId": "38b2e9c9-7f84-4db4-9205-6cd055dfa696"
      },
      "source": [
        "insurance <- read.csv(url_insurance, stringsAsFactors = TRUE)\n",
        "str(insurace) # check if formatted as expected"
      ],
      "execution_count": 23,
      "outputs": [
        {
          "output_type": "error",
          "ename": "ERROR",
          "evalue": "ignored",
          "traceback": [
            "Error in str(insurace): object 'insurace' not found\nTraceback:\n",
            "1. str(insurace)"
          ]
        }
      ]
    },
    {
      "cell_type": "markdown",
      "metadata": {
        "id": "TnFLaTf0P8ZL",
        "colab_type": "text"
      },
      "source": [
        "Furthermore, it is important to already make a brief analysis on the expected outcome. For example, it is probably more likely that older people and smokers are at higher risk of large medical expenses, eventually even people with a too low/too high BMI. In contrast to other machine learning methods, the relationships among the features are typcially specified by the user when performin regression analysis, instead of being detected automatically. "
      ]
    },
    {
      "cell_type": "markdown",
      "metadata": {
        "id": "tdnOfUgAQn0F",
        "colab_type": "text"
      },
      "source": [
        "##### **Step 2 - exploring and preparing the data**\n",
        "\n",
        "The goal of this model will be to model the medical `expenses` with the predictors `age`, `sex`, `bmi`, `children`, `smoker` and `region`. Hence, the model's dependent variable is `expenses` which depends on these six features. \n",
        "\n",
        "Analysing the data prior to building a regression can be helpful. Although the model does not require normally distributed varaibles, it ofte fits better when this is true. "
      ]
    },
    {
      "cell_type": "code",
      "metadata": {
        "id": "Y8lBomA6Sgbs",
        "colab_type": "code",
        "colab": {
          "base_uri": "https://localhost:8080/",
          "height": 54
        },
        "outputId": "9ba6c163-4843-4358-f186-bed9f42dbb51"
      },
      "source": [
        "# summarize the charges variable\n",
        "summary(insurance$expenses)"
      ],
      "execution_count": 24,
      "outputs": [
        {
          "output_type": "display_data",
          "data": {
            "text/plain": [
              "   Min. 1st Qu.  Median    Mean 3rd Qu.    Max. \n",
              "   1122    4740    9382   13270   16640   63770 "
            ]
          },
          "metadata": {
            "tags": []
          }
        }
      ]
    },
    {
      "cell_type": "markdown",
      "metadata": {
        "id": "oNUxLGCJSvzI",
        "colab_type": "text"
      },
      "source": [
        "If the mean value is greater than the median, this implies that the distribution of insurance expenses is right-skewed. This is also confirmed by this histogram:"
      ]
    },
    {
      "cell_type": "code",
      "metadata": {
        "id": "FJD5nzZ0ShST",
        "colab_type": "code",
        "colab": {
          "base_uri": "https://localhost:8080/",
          "height": 437
        },
        "outputId": "bcb29394-7b9d-4d40-866d-6745a4b9084d"
      },
      "source": [
        "# histogram of insurance charges\n",
        "hist(insurance$expenses)"
      ],
      "execution_count": 25,
      "outputs": [
        {
          "output_type": "display_data",
          "data": {
            "image/png": "[encoded data removed]",
            "text/plain": [
              "Plot with title “Histogram of insurance$expenses”"
            ]
          },
          "metadata": {
            "tags": [],
            "image/png": {
              "width": 420,
              "height": 420
            }
          }
        }
      ]
    },
    {
      "cell_type": "markdown",
      "metadata": {
        "id": "telwvBfbTHlJ",
        "colab_type": "text"
      },
      "source": [
        "This histogram shows that the majority of the people within the dataset have yerly medical expenses between 0 and 10'000$, even though the tail of the distribution is far past these peaks. This is not an ideal distribution for a linear regression model, however being aware of this fact helps to create a better-fitting model later on.\n",
        "\n",
        "Another issue with the data is that three features are factor-type features rather than non-numeric variables. The feature `smoker` for example is divided into `yes` or `no`. Having a look at the feature `region` shows, that it has four levels:"
      ]
    },
    {
      "cell_type": "code",
      "metadata": {
        "id": "gy2YzuyLT5xT",
        "colab_type": "code",
        "colab": {
          "base_uri": "https://localhost:8080/",
          "height": 72
        },
        "outputId": "59d37664-a1a8-431b-913d-decab6094d5d"
      },
      "source": [
        "# table of region\n",
        "table(insurance$region)"
      ],
      "execution_count": 26,
      "outputs": [
        {
          "output_type": "display_data",
          "data": {
            "text/plain": [
              "\n",
              "northeast northwest southeast southwest \n",
              "      324       325       364       325 "
            ]
          },
          "metadata": {
            "tags": []
          }
        }
      ]
    },
    {
      "cell_type": "markdown",
      "metadata": {
        "id": "2YQwyd1yVBhW",
        "colab_type": "text"
      },
      "source": [
        "The table shows that the data has been divided nearly evenly among four geographic regions. \n",
        "\n",
        "Prior fitting a regression model it is also advisable to determine how the independent variables are related to the dependent variable and each other. "
      ]
    },
    {
      "cell_type": "markdown",
      "metadata": {
        "id": "gso1o4upWzBn",
        "colab_type": "text"
      },
      "source": [
        "###### **Correlation matrix**\n",
        "\n",
        "The **correlation matrix** provides an overview in a compact form. Given a set of varibales, it provides a correlation for each pairwise relationship. Using the R-function `cor()` and combining the input of that function will give a correlation matrix of the form:"
      ]
    },
    {
      "cell_type": "code",
      "metadata": {
        "id": "EXmVGCjzT44d",
        "colab_type": "code",
        "colab": {
          "base_uri": "https://localhost:8080/",
          "height": 141
        },
        "outputId": "9c30e352-ae97-4dbb-a452-708848632487"
      },
      "source": [
        "# exploring relationships among features: correlation matrix\n",
        "cor(insurance[c(\"age\", \"bmi\", \"children\", \"expenses\")])"
      ],
      "execution_count": 27,
      "outputs": [
        {
          "output_type": "display_data",
          "data": {
            "text/plain": [
              "         age       bmi        children   expenses  \n",
              "age      1.0000000 0.10934101 0.04246900 0.29900819\n",
              "bmi      0.1093410 1.00000000 0.01264471 0.19857626\n",
              "children 0.0424690 0.01264471 1.00000000 0.06799823\n",
              "expenses 0.2990082 0.19857626 0.06799823 1.00000000"
            ],
            "text/latex": "A matrix: 4 × 4 of type dbl\n\\begin{tabular}{r|llll}\n  & age & bmi & children & expenses\\\\\n\\hline\n\tage & 1.0000000 & 0.10934101 & 0.04246900 & 0.29900819\\\\\n\tbmi & 0.1093410 & 1.00000000 & 0.01264471 & 0.19857626\\\\\n\tchildren & 0.0424690 & 0.01264471 & 1.00000000 & 0.06799823\\\\\n\texpenses & 0.2990082 & 0.19857626 & 0.06799823 & 1.00000000\\\\\n\\end{tabular}\n",
            "text/markdown": "\nA matrix: 4 × 4 of type dbl\n\n| <!--/--> | age | bmi | children | expenses |\n|---|---|---|---|---|\n| age | 1.0000000 | 0.10934101 | 0.04246900 | 0.29900819 |\n| bmi | 0.1093410 | 1.00000000 | 0.01264471 | 0.19857626 |\n| children | 0.0424690 | 0.01264471 | 1.00000000 | 0.06799823 |\n| expenses | 0.2990082 | 0.19857626 | 0.06799823 | 1.00000000 |\n\n",
            "text/html": [
              "<table>\n",
              "<caption>A matrix: 4 × 4 of type dbl</caption>\n",
              "<thead>\n",
              "\t<tr><th></th><th scope=col>age</th><th scope=col>bmi</th><th scope=col>children</th><th scope=col>expenses</th></tr>\n",
              "</thead>\n",
              "<tbody>\n",
              "\t<tr><th scope=row>age</th><td>1.0000000</td><td>0.10934101</td><td>0.04246900</td><td>0.29900819</td></tr>\n",
              "\t<tr><th scope=row>bmi</th><td>0.1093410</td><td>1.00000000</td><td>0.01264471</td><td>0.19857626</td></tr>\n",
              "\t<tr><th scope=row>children</th><td>0.0424690</td><td>0.01264471</td><td>1.00000000</td><td>0.06799823</td></tr>\n",
              "\t<tr><th scope=row>expenses</th><td>0.2990082</td><td>0.19857626</td><td>0.06799823</td><td>1.00000000</td></tr>\n",
              "</tbody>\n",
              "</table>\n"
            ]
          },
          "metadata": {
            "tags": []
          }
        }
      ]
    },
    {
      "cell_type": "markdown",
      "metadata": {
        "id": "ITCW426ZXnJa",
        "colab_type": "text"
      },
      "source": [
        "The diagonals are always 1.0, as the variable `age` for example is perfectly correlated to itself, obviously. The correlation between `children` and `bmi` for instance is 0.0126, a small but positive correlation, indicating there is a very slim correlation between having children and the body-mass-index. Such a relation makes more sense if looking at the age and the bmi, where the correlation also indicates a positive rho, with the magnitude of 0.109. The value is roughly 8-times as high as the correlation of `children` and `bmi`, which somehow makes sense. Also, the values above and beyond the diagonal are identical, since the correlation matrix is symmetrical, i.e. `cor(x,y) = cor(x,y)`. \n",
        "\n",
        "Having a look at the correlations between `age` and `expenses`, `bmi` and `expenses`, and `children` and `expenses` implies that those three factors have a positive effect on the expenses, meaning, if either of the three goes up, the expenses go up aswell. Such relationships can also be visualised, for example with a scatterplot matrix (SPLOM)."
      ]
    },
    {
      "cell_type": "markdown",
      "metadata": {
        "id": "lcquOvm3cBUg",
        "colab_type": "text"
      },
      "source": [
        "###### **Scatterplot matrix - SPLOM**\n",
        "\n",
        "It would be possible to create a scatterplot for each possible relationship, however for a large number of features this quickly becomes tedious. An alternative is collecting the scatterplots into one single plot using the comand `pairs`. This is known as a **scatterplot matrix (SPLOM)**. It is used to detect\n",
        "patterns among three or more variables. For this example, not all features will be included:"
      ]
    },
    {
      "cell_type": "code",
      "metadata": {
        "id": "VnBAw2wPU54y",
        "colab_type": "code",
        "colab": {
          "base_uri": "https://localhost:8080/",
          "height": 437
        },
        "outputId": "1d5e0cbd-150a-4b6a-d798-7b1a229ba9ac"
      },
      "source": [
        "# visualing relationships among features: scatterplot matrix\n",
        "pairs(insurance[c(\"age\", \"bmi\", \"children\", \"expenses\")])"
      ],
      "execution_count": 28,
      "outputs": [
        {
          "output_type": "display_data",
          "data": {
            "image/png": "[encoded data removed]",
            "text/plain": [
              "plot without title"
            ]
          },
          "metadata": {
            "tags": [],
            "image/png": {
              "width": 420,
              "height": 420
            }
          }
        }
      ]
    },
    {
      "cell_type": "markdown",
      "metadata": {
        "id": "3vWYM7RJd1Xw",
        "colab_type": "text"
      },
      "source": [
        "The SPLOM can be interpreted as follows, the intersection of each row and column represents the scatterplot of the variables indicated by the row and column pair. For instance, the scatterplot for `age` and `bmi` is the first square int he second column and, because of symmetry the second square in the first column. They present the same information, only the axes have been swapped. As already been figured out with the correlation matrix above, there is no strong relationship between the age and the body-mass-index, thus the scatterplot looks more like a cloud of points. However, a slight trend between the age and the expenses is evident from the graph, since there are several relatively straight lines observable, whereas the bmi vs. expenses plot has two distinct groups of points. \n",
        "\n",
        "Clearly, adding more information to the plot would make it more useful. An example of such plots gives the R-package `psych` with the function `pairs.panels()`. "
      ]
    },
    {
      "cell_type": "code",
      "metadata": {
        "id": "WS1fAUM6htPH",
        "colab_type": "code",
        "colab": {
          "base_uri": "https://localhost:8080/",
          "height": 335
        },
        "outputId": "79db04a3-842e-4e30-c8a7-a9b5ff958aa9"
      },
      "source": [
        "if(!require(psych)){\n",
        "    install.packages(\"psych\")\n",
        "    library(psych)\n",
        "}"
      ],
      "execution_count": 31,
      "outputs": [
        {
          "output_type": "stream",
          "text": [
            "Loading required package: psych\n",
            "\n",
            "Warning message in library(package, lib.loc = lib.loc, character.only = TRUE, logical.return = TRUE, :\n",
            "“there is no package called ‘psych’”\n",
            "Installing package into ‘/usr/local/lib/R/site-library’\n",
            "(as ‘lib’ is unspecified)\n",
            "\n",
            "Warning message:\n",
            "“dependency ‘mnormt’ is not available”\n",
            "Warning message in install.packages(\"psych\"):\n",
            "“installation of package ‘psych’ had non-zero exit status”\n"
          ],
          "name": "stderr"
        },
        {
          "output_type": "error",
          "ename": "ERROR",
          "evalue": "ignored",
          "traceback": [
            "Error in library(psych): there is no package called ‘psych’\nTraceback:\n",
            "1. library(psych)   # at line 3 of file <text>"
          ]
        }
      ]
    },
    {
      "cell_type": "code",
      "metadata": {
        "id": "Iy54nT7Zgi3d",
        "colab_type": "code",
        "colab": {
          "base_uri": "https://localhost:8080/",
          "height": 98
        },
        "outputId": "a78ee4e5-6616-44ba-e70d-7a53843471d4"
      },
      "source": [
        "# create a more informative scatterplot matrix\n",
        "pairs.panels(insurance[c(\"age\", \"bmi\", \"children\", \"expenses\")])"
      ],
      "execution_count": 30,
      "outputs": [
        {
          "output_type": "error",
          "ename": "ERROR",
          "evalue": "ignored",
          "traceback": [
            "Error in pairs.panels(insurance[c(\"age\", \"bmi\", \"children\", \"expenses\")]): could not find function \"pairs.panels\"\nTraceback:\n"
          ]
        }
      ]
    },
    {
      "cell_type": "markdown",
      "metadata": {
        "id": "LAFf-J0Wiyb6",
        "colab_type": "text"
      },
      "source": [
        "In this more informative SPLOM, the entries above the diagonal have been replaced with a correlation matrix, the diagonal still displays the name of the variable, but a histogram depicting the distribution of values for each feature. And under the diagonal axis the scatterplots were extended by a **correlation ellipse**, which visualises the correlation strength. An almost perfectly round oval (as with `bmi` and `children`) shows a very weak correlation, in this case $\\rho = 0.01$. Looking at the ellipse for `age` and `expenses` it is evident that the ellipse is much more stretched, indicating its stronger correlation ($\\rho = 0.3$). The red dot at the centre of the ellipse reflects the means of the $x$ and $y$ axis variables. Lastly, the red curve is known as the **loess curve**, showing the general relationship between the $x$ axis variable and $y$ axis variable. For example, the loess curve for `age` and `children` shows an upside-down parabola with the peak at around the middle age. This means that the youngest and oldest people within the sample have fewer children on the insurance plan than those around the middle. As the line is u-shaped, or n-shaped respectively, the relationship is nonlinear and could have not been inferred from the correlations alone. "
      ]
    },
    {
      "cell_type": "markdown",
      "metadata": {
        "id": "SF3doEDNpz4q",
        "colab_type": "text"
      },
      "source": [
        "##### **Step 3 - training a model on the data**\n",
        "\n",
        "The syntax for training a model can be read as follows:\n"
      ]
    },
    {
      "cell_type": "code",
      "metadata": {
        "id": "GYeyYkdmwCzj",
        "colab_type": "code",
        "colab": {}
      },
      "source": [
        "# Building the model\n",
        "ins_model <- lm(expenses ~ age + children + bmi + sex + smoker + region,\n",
        "                data = insurance)"
      ],
      "execution_count": 32,
      "outputs": []
    },
    {
      "cell_type": "markdown",
      "metadata": {
        "id": "ToaZyvdbwl86",
        "colab_type": "text"
      },
      "source": [
        "If all features of a data set are used, the above expression could be simplified with the period character (.), which would result in the expression `lm(expenses ~ ., data = insurance)`. Both ways are equivalent. Calling the model by typing the name of the model will output the estimated beta coefficients"
      ]
    },
    {
      "cell_type": "code",
      "metadata": {
        "id": "vH9tKFv9yFDI",
        "colab_type": "code",
        "colab": {
          "base_uri": "https://localhost:8080/",
          "height": 235
        },
        "outputId": "4db6f4de-e85d-43b9-8065-bf0142d08a7a"
      },
      "source": [
        "# see the estimated beta coefficients\n",
        "ins_model"
      ],
      "execution_count": 33,
      "outputs": [
        {
          "output_type": "display_data",
          "data": {
            "text/plain": [
              "\n",
              "Call:\n",
              "lm(formula = expenses ~ age + children + bmi + sex + smoker + \n",
              "    region, data = insurance)\n",
              "\n",
              "Coefficients:\n",
              "    (Intercept)              age         children              bmi  \n",
              "       -11941.6            256.8            475.7            339.3  \n",
              "        sexmale        smokeryes  regionnorthwest  regionsoutheast  \n",
              "         -131.4          23847.5           -352.8          -1035.6  \n",
              "regionsouthwest  \n",
              "         -959.3  \n"
            ]
          },
          "metadata": {
            "tags": []
          }
        }
      ]
    },
    {
      "cell_type": "markdown",
      "metadata": {
        "id": "aGC5g-LoyHxK",
        "colab_type": "text"
      },
      "source": [
        "The intercept is the predicted value of `expenses` when the independent variables are equal to zero. However, in this case the intercept has not much explanatory power by itself, as it is almost impossible to have the value of 0 for all features. No person can exist with age 0 or bmi 0. The beta coefficients, sam as for simple linear regressions, express the slope of each feature, indicating by how much the $y$ value (`expenses`) will increase by a unit shift in $x$. For instance, assuming all other features except `age` remain constant, a unit shift in `age` (each additional year of age) would increase the `expenses` by a 256.8 on average.\n",
        "\n",
        "Note that the model outputs eight coefficients, even though in the model formula only six were specified. This is because the `lm()` function automatically applies dummy coding to each of the factor type variables included in the model. For the interested reader, please refer to *Chapter 2 - Managing and Understanding Data*, where dummy coding is explained. However, when adding a dummy variable to a regression model, one category is always being excluded from to model to to serve as the reference category. The model above automatically left out the `sexfemale`, `smokerno` and `regionnortheast` variables. Thus, males have 131.40 less medical expenses each year relative to females and smokers cost an average of 23'847.50 more than non-smokers a year. Because the coefficient for each of the three regions is negative, this implies that the reference region `regionnortheast` tends to have the highest average expenses. R uses by default the first level of th factor as the reference. If a different level is prefered,the `relevel()` function can be used to specify the reference group manually. \n",
        "\n",
        "Concluding on the results, they make sense somehow. Old age, smokers and obesity tend to be linked to additional health issues, while additional familiy members may result in an increase in physician visits. Although the results are plausible, there is no indication of how well the model performs, i.e. fitting the data. "
      ]
    },
    {
      "cell_type": "markdown",
      "metadata": {
        "id": "3xbNrlVW3EcQ",
        "colab_type": "text"
      },
      "source": [
        "##### **Step 4 - evaluating model performance**"
      ]
    },
    {
      "cell_type": "code",
      "metadata": {
        "id": "xAnw35RD46H9",
        "colab_type": "code",
        "colab": {
          "base_uri": "https://localhost:8080/",
          "height": 490
        },
        "outputId": "6055f236-79ba-4499-9be0-fd3c19be7e79"
      },
      "source": [
        "# see more detail about the estimated beta coefficients\n",
        "summary(ins_model)"
      ],
      "execution_count": 34,
      "outputs": [
        {
          "output_type": "display_data",
          "data": {
            "text/plain": [
              "\n",
              "Call:\n",
              "lm(formula = expenses ~ age + children + bmi + sex + smoker + \n",
              "    region, data = insurance)\n",
              "\n",
              "Residuals:\n",
              "     Min       1Q   Median       3Q      Max \n",
              "-11302.7  -2850.9   -979.6   1383.9  29981.7 \n",
              "\n",
              "Coefficients:\n",
              "                Estimate Std. Error t value Pr(>|t|)    \n",
              "(Intercept)     -11941.6      987.8 -12.089  < 2e-16 ***\n",
              "age                256.8       11.9  21.586  < 2e-16 ***\n",
              "children           475.7      137.8   3.452 0.000574 ***\n",
              "bmi                339.3       28.6  11.864  < 2e-16 ***\n",
              "sexmale           -131.3      332.9  -0.395 0.693255    \n",
              "smokeryes        23847.5      413.1  57.723  < 2e-16 ***\n",
              "regionnorthwest   -352.8      476.3  -0.741 0.458976    \n",
              "regionsoutheast  -1035.6      478.7  -2.163 0.030685 *  \n",
              "regionsouthwest   -959.3      477.9  -2.007 0.044921 *  \n",
              "---\n",
              "Signif. codes:  0 ‘***’ 0.001 ‘**’ 0.01 ‘*’ 0.05 ‘.’ 0.1 ‘ ’ 1\n",
              "\n",
              "Residual standard error: 6062 on 1329 degrees of freedom\n",
              "Multiple R-squared:  0.7509,\tAdjusted R-squared:  0.7494 \n",
              "F-statistic: 500.9 on 8 and 1329 DF,  p-value: < 2.2e-16\n"
            ]
          },
          "metadata": {
            "tags": []
          }
        }
      ]
    },
    {
      "cell_type": "markdown",
      "metadata": {
        "id": "0Cnzy0y-484F",
        "colab_type": "text"
      },
      "source": [
        "This is the same output as for simple linear regressions. It shows a summary about the quality of the model, and is divided into three parts again; (1) the residuals, (2)the coefficients and (3) the multiple R-squared. The key insights are:\n",
        "\n",
        "\n",
        "1.   The maximum error of 29'981.70 suggests that the model under-predicted expenses by alost 30'000 for at least one observation. On the other hand, 50% of the predictions fall within the 1Q and 3Q, showing that the majority of predictions were between 2'850.90 over the true value and 1'383.90 under the true value.\n",
        "2.   The model has several statistically significant coefficients (3 asteriks) and only two coefficients (for `sexmale` and `regionnorthwest`) that are not statistically significant. \n",
        "\n",
        "3.   Adjusted R-squared is 0.7494 and indicate that the model is able to explain 74.94% of the variation in the dependent variable `expenses`. Models with more features per default explain more variaten, which is why for those models the adjusted R-squared is needed. \n",
        "\n",
        "It can be concluded that the model is performing quite well, taking into account that regression models of real-world data very often have low R-squared values. Thus, a value of 0.75 is very good. However, the size of some residuals is a bit concerning but not surprising, given the data. Nevertheless this model can be improved by specifying the model in a slightly different way.\n",
        "\n"
      ]
    },
    {
      "cell_type": "markdown",
      "metadata": {
        "id": "AZEBMAO9rZhz",
        "colab_type": "text"
      },
      "source": [
        "##### **Step 5 - improving model performance**\n",
        "\n",
        "As mentioned at the beginning of this chapter, the main difference between machine learning approaches and regression modelling is that machine learning approaches does selection and model specificatin automatically, whereas for regression modelling the user has to do it manually. By implication, if the user has some knowledge about how a feature is related to the outcome, this information can be used to inform the model specification and likely improve the model's performance."
      ]
    },
    {
      "cell_type": "markdown",
      "metadata": {
        "id": "En53t8UH8z4X",
        "colab_type": "text"
      },
      "source": [
        "###### **Adding nonlinear relationships**\n",
        "\n",
        "The relationship between an independent variable and dependent variable is in linear regression, as the name suggests, assumed to be linear, even though this may not be true. For instance, the feature `age` may not have a constant effect on medical `expenses`, thus treating this relationship linearly could become disproportionally expensive for the oldest population. Hence, adding a new term to the model such that the model is no longer linear but rahter a polynomial is a common way in mathematics (see [Taylor series](https://en.wikipedia.org/wiki/Taylor_series) as an example of adding terms of higher order to gain better approximations). \n",
        "\n",
        "In mathematics, accounting for a nonlinear relationship in a model means essentially adding terms of higher order to the the model, hence the reference to the Taylor Series above, which is one of many examples for such a progress. In the case of multiple regression, a linear model can therefore be extended to the form of\n",
        "\n",
        "$$\n",
        "y = \\alpha + \\beta_1 x + \\beta_2 x^2,\n",
        "$$\n",
        "\n",
        "which enables to treat the model as a polynomial. The consequence however is, that an additional beta has to be estimated, wich is intended to capture the effect of the $x^2$ term. Because the model does not have such a nonlinear feature, it must be manually added to the model"
      ]
    },
    {
      "cell_type": "code",
      "metadata": {
        "id": "EyRJ1hat85IW",
        "colab_type": "code",
        "colab": {}
      },
      "source": [
        "# add a higher-order \"age\" term\n",
        "insurance$age2 <- insurance$age^2"
      ],
      "execution_count": 35,
      "outputs": []
    },
    {
      "cell_type": "markdown",
      "metadata": {
        "id": "YQbnzlmRVe_d",
        "colab_type": "text"
      },
      "source": [
        "In order to produce the improved model the new feature simply has to be added like any other feature to the `lm()` formula. This is done by using the expression `expenses ~ age + age2` which allows the model to separate the linear and nonlinear impact of age on medical expenses."
      ]
    },
    {
      "cell_type": "markdown",
      "metadata": {
        "id": "I99rQZhIWPE8",
        "colab_type": "text"
      },
      "source": [
        "###### **Converting a numeric variable to a binary indicator**\n",
        "\n",
        "A convertion from a numeric variable to a binary indicator is especially helpful if there is a plausible assumption that the effect of a feature is not cumulative, but rather only effects the dependent variable if and only if a specific threshold has been reched. In this case a binary indicator can be introduced, which assigns the value of 0 to the feature, if the threshold is not reached, and 1 if the threshold was reached, or vice versa. Applying this principle to the `bmi` feature, because the BMI may have no impact at all on medical expenditures for individuals in the normal weight range. Being out of that range (obesity for example) could be strongly related to higher healthcare costs.\n",
        "\n",
        "Below such an indicator is being created. It assigns the binary value indicator 1 to the input if the individual has a BMI of 30 or greater, and the value null else (therefore the `ifelse` statement). This statement checks if the first parameter, in this case `insurance$bmi >= 30` is true or false, if true, it returns the value 1, else (if false), it returns the value 0. "
      ]
    },
    {
      "cell_type": "code",
      "metadata": {
        "id": "UV-sYzPOWdf3",
        "colab_type": "code",
        "colab": {}
      },
      "source": [
        "# add an indicator for BMI >= 30\n",
        "insurance$bmi30 <- ifelse(insurance$bmi >= 30, 1, 0)"
      ],
      "execution_count": 36,
      "outputs": []
    },
    {
      "cell_type": "markdown",
      "metadata": {
        "id": "v2-JLkKBh6S_",
        "colab_type": "text"
      },
      "source": [
        "Creating this new feature `bmi30` allows the model to take into consideration those values which are equal or greater than 30. Hence, the resulting beta for this binary feature would then indicate the average net impact on medical expenses for individuals who satisfy the condition `bmi >= 30`. This new variable could either replace the old `bmi` or it can be used in addition to that. If no plausible statement about why to replace can be made, it is recommended to keep the old feature and add the new one. Here, both will be included in the model.\n",
        "\n",
        "Hint: If it is unsure whether to include or replace, one can examine the p-value and decide according to the statistical significance."
      ]
    },
    {
      "cell_type": "markdown",
      "metadata": {
        "id": "ChFoS9v7nlZ-",
        "colab_type": "text"
      },
      "source": [
        "###### **Adding interaction effects**\n",
        "\n",
        "The same strategy for considerinig each feature's individual contribution can be applied to features which have a combined impact on the dependent variable. For instance, smoking and obesity could have an harmful effects separately, but it is reasonable to assume their combination could cause a greater risk than the sum of each one alone. Such an effect is known as **interaction**, which also in case of uncertainty about the interaction of two variables can be tested by adding their interaction to the model and perform a hypothesis test. To interact two variables the R formula syntax would look like `expenses ~ bmi30*smoker`. This `*` operator is shorthand for `expenses ~ bmi30 + smokeryes + bmi30:smokeryes`. This extended version shows that simply adding the interaction should never be done but only be used in combination with the indivual values. Thanks to the R syntax, using `*` makes the code shorter, but does the same job. "
      ]
    },
    {
      "cell_type": "markdown",
      "metadata": {
        "id": "kVRkzvi3sVEp",
        "colab_type": "text"
      },
      "source": [
        "###### **Putting all together - an improved regression model**\n",
        "\n",
        "Using a little bit of subject matter knowledge this model was improved to hopefully be more accurately than the linear model before. The improvements were made by adding a nonlinear term for age, creating an indicator for obesity and specifying an interaction between smoking and obesity. \n",
        "\n",
        "This model will be trained using the `lm()` function but with the new additional features. The new model is named as `ins_model2`."
      ]
    },
    {
      "cell_type": "code",
      "metadata": {
        "id": "vHLMhUaPsOt-",
        "colab_type": "code",
        "colab": {
          "base_uri": "https://localhost:8080/",
          "height": 545
        },
        "outputId": "4b0724f2-cbea-4618-959b-774f961649d1"
      },
      "source": [
        "# create final model\n",
        "ins_model2 <- lm(expenses ~ age + age2 + children + bmi + sex +\n",
        "                   bmi30*smoker + region, data = insurance)\n",
        "\n",
        "summary(ins_model2)"
      ],
      "execution_count": 37,
      "outputs": [
        {
          "output_type": "display_data",
          "data": {
            "text/plain": [
              "\n",
              "Call:\n",
              "lm(formula = expenses ~ age + age2 + children + bmi + sex + bmi30 * \n",
              "    smoker + region, data = insurance)\n",
              "\n",
              "Residuals:\n",
              "     Min       1Q   Median       3Q      Max \n",
              "-17297.1  -1656.0  -1262.7   -727.8  24161.6 \n",
              "\n",
              "Coefficients:\n",
              "                  Estimate Std. Error t value Pr(>|t|)    \n",
              "(Intercept)       139.0053  1363.1359   0.102 0.918792    \n",
              "age               -32.6181    59.8250  -0.545 0.585690    \n",
              "age2                3.7307     0.7463   4.999 6.54e-07 ***\n",
              "children          678.6017   105.8855   6.409 2.03e-10 ***\n",
              "bmi               119.7715    34.2796   3.494 0.000492 ***\n",
              "sexmale          -496.7690   244.3713  -2.033 0.042267 *  \n",
              "bmi30            -997.9355   422.9607  -2.359 0.018449 *  \n",
              "smokeryes       13404.5952   439.9591  30.468  < 2e-16 ***\n",
              "regionnorthwest  -279.1661   349.2826  -0.799 0.424285    \n",
              "regionsoutheast  -828.0345   351.6484  -2.355 0.018682 *  \n",
              "regionsouthwest -1222.1619   350.5314  -3.487 0.000505 ***\n",
              "bmi30:smokeryes 19810.1534   604.6769  32.762  < 2e-16 ***\n",
              "---\n",
              "Signif. codes:  0 ‘***’ 0.001 ‘**’ 0.01 ‘*’ 0.05 ‘.’ 0.1 ‘ ’ 1\n",
              "\n",
              "Residual standard error: 4445 on 1326 degrees of freedom\n",
              "Multiple R-squared:  0.8664,\tAdjusted R-squared:  0.8653 \n",
              "F-statistic: 781.7 on 11 and 1326 DF,  p-value: < 2.2e-16\n"
            ]
          },
          "metadata": {
            "tags": []
          }
        }
      ]
    },
    {
      "cell_type": "markdown",
      "metadata": {
        "id": "hDGVsKaawUxW",
        "colab_type": "text"
      },
      "source": [
        "According to the adjusted R-squared value from the extended regression model which is 0.8653, it could be argued that indeed the improvements add up to the quality of the model. For comparison, the adjusted R-squared value of the old model is 0.75. This improved model is now able to explain 87% of the variation in the dependent value `expenses`. Additionally, the assumptions made which contributed to the improvement seem to be validated. The higher order `age2` term is statistically significant (3 asterics), as is the interaction `bmi30:smokeryes`. The feature `bmi30` is also statistically significant, although less than the other two. Taking the values for the beta estimate into account, it is clear that the interaction between obesity and smoking suggests a massive effect, additional yearly costs of 19'810.15 if being obese and smoking. "
      ]
    },
    {
      "cell_type": "markdown",
      "metadata": {
        "id": "BmeHSpMt2i7t",
        "colab_type": "text"
      },
      "source": [
        "#### **Making predictions with a regression model**\n",
        "\n",
        "This model now could also be used to predict the expenses of future enrollees. The code below ilustrates the process of making predictions. First, the model will be applied to the original training data using the `predict()` function:"
      ]
    },
    {
      "cell_type": "code",
      "metadata": {
        "id": "bihb832N3KP2",
        "colab_type": "code",
        "colab": {}
      },
      "source": [
        "# making predictions with the regression model\n",
        "insurance$pred <- predict(ins_model2, insurance)"
      ],
      "execution_count": 38,
      "outputs": []
    },
    {
      "cell_type": "markdown",
      "metadata": {
        "id": "_vWGbaBY3Nov",
        "colab_type": "text"
      },
      "source": [
        "The predict function takes the extended model `ins_model2` as the input for the model and will perform the prediction analysis on the data set `insurance`. The prediction will be stored as a new vector in the data set with the column name `pred`. By calculating the correlation between the predicted values and the given values for the expenses a conclusion on the quality of the prediction can be made. "
      ]
    },
    {
      "cell_type": "code",
      "metadata": {
        "id": "JeavAoAv3q2l",
        "colab_type": "code",
        "colab": {
          "base_uri": "https://localhost:8080/",
          "height": 35
        },
        "outputId": "a65ee906-427c-44a4-bd31-1a03ed0f91c5"
      },
      "source": [
        "cor(insurance$pred, insurance$expenses)"
      ],
      "execution_count": 39,
      "outputs": [
        {
          "output_type": "display_data",
          "data": {
            "text/plain": [
              "[1] 0.9307999"
            ],
            "text/latex": "0.930799883057618",
            "text/markdown": "0.930799883057618",
            "text/html": [
              "0.930799883057618"
            ]
          },
          "metadata": {
            "tags": []
          }
        }
      ]
    },
    {
      "cell_type": "markdown",
      "metadata": {
        "id": "rMSpPMam6L1J",
        "colab_type": "text"
      },
      "source": [
        "The correlation of 0.93 suggests a very strong linear relationship between the predicted and actual values. Such a high correlation value indicates that the model is highly accurate. The quality of the model can alo be shown graphically. The command `abline(a = 0, b = 1, col = 'red', lwd = 3, lty = 2)` adds an identity line with the intercept `a = 0` and slope `b = 1`. The parameter `col = 'red'` defines the colour of the line and `lwd = 3, lty = 2` affect the width and type, respectively."
      ]
    },
    {
      "cell_type": "code",
      "metadata": {
        "id": "--h3lZUr6ym0",
        "colab_type": "code",
        "colab": {
          "base_uri": "https://localhost:8080/",
          "height": 437
        },
        "outputId": "f88b2b24-7768-4a8a-ccb5-a4ed054b0b4e"
      },
      "source": [
        "plot(insurance$pred, insurance$expenses)\n",
        "abline(a = 0, b = 1, col = \"red\", lwd = 3, lty = 2)"
      ],
      "execution_count": 40,
      "outputs": [
        {
          "output_type": "display_data",
          "data": {
            "image/png": "[encoded data removed]",
            "text/plain": [
              "plot without title"
            ]
          },
          "metadata": {
            "tags": [],
            "image/png": {
              "width": 420,
              "height": 420
            }
          }
        }
      ]
    },
    {
      "cell_type": "markdown",
      "metadata": {
        "id": "U4pZm83y63KH",
        "colab_type": "text"
      },
      "source": [
        "It's important to mention that the points that are close to the red line where $y = x$ indicate the predictions that were very close to the actual values. Why is that? The line was created arbitrarly? Note that the $x$-values of this plot the predictions are, and the $y$-values the actual expenses. The red line, as stated above, represents the values of $y$ that are equal to $x$. Recall that $y = mx + b$, or for this purpose rather $y = bx + a$ where $b$ the variable for the slope is (in this case `b = 1`) and $a$ the intercept `a = 0` is, as specified in the inputs for the function `abline()`. These makes the function to $x = y$. \n",
        "\n",
        "This concludes that points falling above the line are cases where the actual expenses were greater than predicted, and vice versa. It is evident from the graph that the small number of \"outliers\" are balanced out by the large number of patients with slightly smaller-than-expected expenses.\n"
      ]
    },
    {
      "cell_type": "markdown",
      "metadata": {
        "id": "Rch62qj092i2",
        "colab_type": "text"
      },
      "source": [
        "How could this model, i.e. prediction work in practice? Supposing an insurance company wants to forecast the expenses for potential new enrollees and wants to find the price which they should charge the enrollee. The `predict()` would therefore need a dataframe with the patients' information, in the case of many patients this could be a .csv file to load in R, or for a small number the data can be created manually within the function itself. Estimating now the expenses for a 30 year old, overweight, male non-smoker with two children in the Northeast:"
      ]
    },
    {
      "cell_type": "code",
      "metadata": {
        "id": "JJgBNt0O-0EL",
        "colab_type": "code",
        "colab": {
          "base_uri": "https://localhost:8080/",
          "height": 35
        },
        "outputId": "cf5e62ea-d05d-4856-db60-32c69062b3fa"
      },
      "source": [
        "predict(ins_model2,\n",
        "        data.frame(age = 30, age2 = 30^2, children = 2,\n",
        "                   bmi = 30, sex = \"male\", bmi30 = 1,\n",
        "                   smoker = \"no\", region = \"northeast\"))"
      ],
      "execution_count": 41,
      "outputs": [
        {
          "output_type": "display_data",
          "data": {
            "text/plain": [
              "       1 \n",
              "5973.774 "
            ],
            "text/latex": "\\textbf{1:} 5973.77438970548",
            "text/markdown": "**1:** 5973.77438970548",
            "text/html": [
              "<strong>1:</strong> 5973.77438970548"
            ]
          },
          "metadata": {
            "tags": []
          }
        }
      ]
    },
    {
      "cell_type": "markdown",
      "metadata": {
        "id": "dvnBspwD_5mL",
        "colab_type": "text"
      },
      "source": [
        "The insurance company would now interpret this result as the expected expenses for that one patient. Therefore, they would need to charge 5'973.77 each year to be break even. Same preditions can be made with different patients, where \"different patients\" simply means different data. \n",
        "\n",
        "Now, the insurance company wants to know the expected expenses for a woman same age and same \"boday-attributions\". The only different parameter is `sex = \"female\"`:"
      ]
    },
    {
      "cell_type": "code",
      "metadata": {
        "id": "YW_mxGYuAQ6E",
        "colab_type": "code",
        "colab": {
          "base_uri": "https://localhost:8080/",
          "height": 35
        },
        "outputId": "974af2fc-a422-48fa-bf80-d0171b9c68ed"
      },
      "source": [
        "predict(ins_model2,\n",
        "        data.frame(age = 30, age2 = 30^2, children = 2,\n",
        "                   bmi = 30, sex = \"female\", bmi30 = 1,\n",
        "                   smoker = \"no\", region = \"northeast\"))"
      ],
      "execution_count": 42,
      "outputs": [
        {
          "output_type": "display_data",
          "data": {
            "text/plain": [
              "       1 \n",
              "6470.543 "
            ],
            "text/latex": "\\textbf{1:} 6470.54336993404",
            "text/markdown": "**1:** 6470.54336993404",
            "text/html": [
              "<strong>1:</strong> 6470.54336993404"
            ]
          },
          "metadata": {
            "tags": []
          }
        }
      ]
    },
    {
      "cell_type": "code",
      "metadata": {
        "id": "ZKBQ8aK5Cjg9",
        "colab_type": "code",
        "colab": {
          "base_uri": "https://localhost:8080/",
          "height": 35
        },
        "outputId": "ec2eb1a2-f7ae-4937-89fe-1880be60c8ba"
      },
      "source": [
        "5973.77-6470.54"
      ],
      "execution_count": 43,
      "outputs": [
        {
          "output_type": "display_data",
          "data": {
            "text/plain": [
              "[1] -496.77"
            ],
            "text/latex": "-496.77",
            "text/markdown": "-496.77",
            "text/html": [
              "-496.77"
            ]
          },
          "metadata": {
            "tags": []
          }
        }
      ]
    },
    {
      "cell_type": "markdown",
      "metadata": {
        "id": "wKRr1arIAZX6",
        "colab_type": "text"
      },
      "source": [
        "The price difference between the female and male patient is $-496.77$. This value actually is the same as the estimated regression model coefficient for `sexmale`, see under section **Putting all together - an improved regression model**. This is not surprising, since the predicted expenses are weighted sums of all features\n",
        "\n",
        "$$\n",
        "y = \\beta_0 + \\beta_1x_1 + \\beta_2x_2 ...\n",
        "$$\n",
        "\n",
        "Illustrating this on a last example using the model's regression coefficient of $678.6017$ for the number of children, a prediction can be made when reducing the number of children from 2 to 0. This should result in a drop in expenses of $2 \\times 678.6017 = 1'357.203$. For comparison:"
      ]
    },
    {
      "cell_type": "code",
      "metadata": {
        "id": "8Dr5VaIvQ-rL",
        "colab_type": "code",
        "colab": {
          "base_uri": "https://localhost:8080/",
          "height": 35
        },
        "outputId": "61278ca4-cc45-458c-f8c4-77ad7655d14c"
      },
      "source": [
        "predict(ins_model2,\n",
        "        data.frame(age = 30, age2 = 30^2, children = 0,\n",
        "                   bmi = 30, sex = \"female\", bmi30 = 1,\n",
        "                   smoker = \"no\", region = \"northeast\"))"
      ],
      "execution_count": 44,
      "outputs": [
        {
          "output_type": "display_data",
          "data": {
            "text/plain": [
              "      1 \n",
              "5113.34 "
            ],
            "text/latex": "\\textbf{1:} 5113.34000395303",
            "text/markdown": "**1:** 5113.34000395303",
            "text/html": [
              "<strong>1:</strong> 5113.34000395303"
            ]
          },
          "metadata": {
            "tags": []
          }
        }
      ]
    },
    {
      "cell_type": "code",
      "metadata": {
        "id": "VCmriNZfCZkg",
        "colab_type": "code",
        "colab": {
          "base_uri": "https://localhost:8080/",
          "height": 35
        },
        "outputId": "959ade2e-cfda-4b82-9979-b3289bd9db5c"
      },
      "source": [
        "6470.543 - 5113.340"
      ],
      "execution_count": 45,
      "outputs": [
        {
          "output_type": "display_data",
          "data": {
            "text/plain": [
              "[1] 1357.203"
            ],
            "text/latex": "1357.203",
            "text/markdown": "1357.203",
            "text/html": [
              "1357.203"
            ]
          },
          "metadata": {
            "tags": []
          }
        }
      ]
    },
    {
      "cell_type": "markdown",
      "metadata": {
        "id": "jTXdLvJ_C3Yi",
        "colab_type": "text"
      },
      "source": [
        "Therefore, exportin the model's regression coefficients would enable the insurance company to build their own forecasting function. A potential use case could be to implement the regression model in a customer database for real-time prediction."
      ]
    },
    {
      "cell_type": "markdown",
      "metadata": {
        "id": "vFlKmEY7DaH8",
        "colab_type": "text"
      },
      "source": [
        "## Part B - Regression Trees and Model Trees\n"
      ]
    },
    {
      "cell_type": "markdown",
      "metadata": {
        "id": "9oqB1yJXju2s",
        "colab_type": "text"
      },
      "source": [
        "### Understanding Regression Trees and Model Trees"
      ]
    },
    {
      "cell_type": "markdown",
      "metadata": {
        "id": "HTg4AkUsFGYF",
        "colab_type": "text"
      },
      "source": [
        "One common splitting criterion is called the **standard deviation reduction (SDR)**, which is defined as:\n",
        "\n",
        "$$\n",
        " SDR = \\mathrm{sd}(T) - \\sum_i{\\frac{|T_i|}{|T|} \\cdot \\mathrm{sd}(T_i)},\n",
        "$$\n",
        "\n",
        "where sd$(T)$ refers to the standard deviation of the values in set $T$, while $T_1, T_2, ..., T_n$ the splitted sets of features are. The $|T|$ term refers to the number of observations in set $T$. Using this formula gives the measure of the reduction in standard deviation by comparing the standard deviation pre-split sd$(T)$ to the weighted standard deviation post-split sd($T_i$).\n",
        "\n",
        "Considering following case where the algorithm (tree) has to decide where to split\n",
        "\n",
        "|    original data   | 1 | 1 | 1 |  2 | 2 | 3 | 4 | 5 | 5 | 6 | 6 |  7 | 7 | 7 | 7 |\n",
        "|:------------------:|:-:|:-:|:-:|:--:|:-:|:-:|:-:|:-:|:-:|:-:|:-:|:--:|:-:|:-:|:-:|\n",
        "| split on feature A | 1 | 1 | 1 |  2 | 2 | 3 | 4 | 5 | 5 | $\\boldsymbol{6}$ | $\\boldsymbol{6}$ |  $\\boldsymbol{7}$ | $\\boldsymbol{7}$ | $\\boldsymbol{7}$ | $\\boldsymbol{7}$ |\n",
        "| split on feature B | 1 | 1 | 1 |  2 | 2 | 3 | 4 | $\\boldsymbol{5}$ | $\\boldsymbol{5}$ | $\\boldsymbol{6}$ | $\\boldsymbol{6}$ |  $\\boldsymbol{7}$ | $\\boldsymbol{7}$ | $\\boldsymbol{7}$ | $\\boldsymbol{7}$ |\n",
        "|                    |   |   |   | $T_1$ |   |   |   |   |   |   |   | $\\boldsymbol{T_2}$ |   |   |   |\n",
        "\n",
        "The bold numbers represent the values for the $T_2$ group, and the normalfont numbers belong to $T_1$. Splitting on feature A would result in group $T_1 = [1,1,1,2,2,3,4,5,5]$ and group $T_2 = [6,6,7,7,7,7]$ and be labeled in the code as `at1` and `at2`, respectively. Same goes for splitting feature B. \n"
      ]
    },
    {
      "cell_type": "code",
      "metadata": {
        "id": "havu7s8OojLk",
        "colab_type": "code",
        "colab": {}
      },
      "source": [
        "# set up the data\n",
        "tee <- c(1, 1, 1, 2, 2, 3, 4, 5, 5, 6, 6, 7, 7, 7, 7)\n",
        "at1 <- c(1, 1, 1, 2, 2, 3, 4, 5, 5)\n",
        "at2 <- c(6, 6, 7, 7, 7, 7)\n",
        "bt1 <- c(1, 1, 1, 2, 2, 3, 4)\n",
        "bt2 <- c(5, 5, 6, 6, 7, 7, 7, 7)"
      ],
      "execution_count": 46,
      "outputs": []
    },
    {
      "cell_type": "markdown",
      "metadata": {
        "id": "XomgGyzGKpxX",
        "colab_type": "text"
      },
      "source": [
        "The SDR will be computet according to the formula above. The `length()` function returns the number of elements in a vector, and thus is used for $|T|$ and $|T_i|$.\n",
        "\n",
        "Calculating SDR for feature A would be:\n",
        "\n",
        "$$\n",
        "SDR_A = \\mathrm{sd}(T) - \\left(\\frac{|T_1|}{|T|} \\cdot \\mathrm{sd}(T_1) + \\frac{|T_2|}{|T|} \\cdot \\mathrm{sd}(T_2)\\right)\n",
        "$$\n",
        "\n",
        "Same goes for feature B. The results are saved as `sdr_a` and `sdr_b`:"
      ]
    },
    {
      "cell_type": "code",
      "metadata": {
        "id": "__SPSofVokGk",
        "colab_type": "code",
        "colab": {}
      },
      "source": [
        "# compute the SDR\n",
        "sdr_a <- sd(tee) - (length(at1) / length(tee) * sd(at1) + length(at2) / length(tee) * sd(at2))\n",
        "sdr_b <- sd(tee) - (length(bt1) / length(tee) * sd(bt1) + length(bt2) / length(tee) * sd(bt2))"
      ],
      "execution_count": 47,
      "outputs": []
    },
    {
      "cell_type": "markdown",
      "metadata": {
        "id": "phcuyg07NM_H",
        "colab_type": "text"
      },
      "source": [
        "By comparing the SDR of A `sdr_a` against the SDR of B `sdr_b`"
      ]
    },
    {
      "cell_type": "code",
      "metadata": {
        "id": "Q9dq1-ovokqM",
        "colab_type": "code",
        "colab": {
          "base_uri": "https://localhost:8080/",
          "height": 52
        },
        "outputId": "96bf28ca-7a3c-4aca-8cf9-d50c76a7c9c3"
      },
      "source": [
        "# compare the SDR for each split\n",
        "sdr_a\n",
        "sdr_b"
      ],
      "execution_count": 48,
      "outputs": [
        {
          "output_type": "display_data",
          "data": {
            "text/plain": [
              "[1] 1.202815"
            ],
            "text/latex": "1.20281456809792",
            "text/markdown": "1.20281456809792",
            "text/html": [
              "1.20281456809792"
            ]
          },
          "metadata": {
            "tags": []
          }
        },
        {
          "output_type": "display_data",
          "data": {
            "text/plain": [
              "[1] 1.392751"
            ],
            "text/latex": "1.39275139353039",
            "text/markdown": "1.39275139353039",
            "text/html": [
              "1.39275139353039"
            ]
          },
          "metadata": {
            "tags": []
          }
        }
      ]
    },
    {
      "cell_type": "markdown",
      "metadata": {
        "id": "awZ3Q2KPNxsy",
        "colab_type": "text"
      },
      "source": [
        "it becomes clear that the tree would use B first, since the goal is to reduce the standard deviation (SDR stands for standard deviation reduction). And because the result of the SDR for B is greater than the SDR for A, it is clear that by splitting up B would generate a higher standard deviation reduction."
      ]
    },
    {
      "cell_type": "markdown",
      "metadata": {
        "id": "H33vSsOTQzrq",
        "colab_type": "text"
      },
      "source": [
        "### Estimating the quality of wines with regression trees and model trees\n",
        "\n",
        "Within this notebook, multiple regressions were covered, whereas *chapter 7, Black Box Methods – Neural Networks and Support Vector Machines* will take on neural networks and support vector machines. Cortez' study within the respective literature of Lantz (2019) showed that support vector machines performed significantly better than the linear regression model. However, unlike regression, support vector machine models are not as easy to understand and interpret as linear regressions. Thus, regression trees and model trees are able to improve regression results while still being comparably easy to understand."
      ]
    },
    {
      "cell_type": "markdown",
      "metadata": {
        "id": "tQ7EtM3PemWp",
        "colab_type": "text"
      },
      "source": [
        "#### **Step 1 - Exploring and preparing the data**"
      ]
    },
    {
      "cell_type": "code",
      "metadata": {
        "id": "tqKEYDmgolVD",
        "colab_type": "code",
        "colab": {
          "base_uri": "https://localhost:8080/",
          "height": 254
        },
        "outputId": "96f835ee-1791-4f59-b49d-f248a6470acd"
      },
      "source": [
        "# loading data from github\n",
        "wine <- read.csv(\"https://raw.githubusercontent.com/tanasrad/Machine_Learning_with_R/master/Ch6/whitewines.csv\")\n",
        "# examine the wine data\n",
        "str(wine)"
      ],
      "execution_count": 49,
      "outputs": [
        {
          "output_type": "stream",
          "text": [
            "'data.frame':\t4898 obs. of  12 variables:\n",
            " $ fixed.acidity       : num  6.7 5.7 5.9 5.3 6.4 7 7.9 6.6 7 6.5 ...\n",
            " $ volatile.acidity    : num  0.62 0.22 0.19 0.47 0.29 0.14 0.12 0.38 0.16 0.37 ...\n",
            " $ citric.acid         : num  0.24 0.2 0.26 0.1 0.21 0.41 0.49 0.28 0.3 0.33 ...\n",
            " $ residual.sugar      : num  1.1 16 7.4 1.3 9.65 0.9 5.2 2.8 2.6 3.9 ...\n",
            " $ chlorides           : num  0.039 0.044 0.034 0.036 0.041 0.037 0.049 0.043 0.043 0.027 ...\n",
            " $ free.sulfur.dioxide : num  6 41 33 11 36 22 33 17 34 40 ...\n",
            " $ total.sulfur.dioxide: num  62 113 123 74 119 95 152 67 90 130 ...\n",
            " $ density             : num  0.993 0.999 0.995 0.991 0.993 ...\n",
            " $ pH                  : num  3.41 3.22 3.49 3.48 2.99 3.25 3.18 3.21 2.88 3.28 ...\n",
            " $ sulphates           : num  0.32 0.46 0.42 0.54 0.34 0.43 0.47 0.47 0.47 0.39 ...\n",
            " $ alcohol             : num  10.4 8.9 10.1 11.2 10.9 ...\n",
            " $ quality             : int  5 6 6 4 6 6 6 6 6 7 ...\n"
          ],
          "name": "stdout"
        }
      ]
    },
    {
      "cell_type": "markdown",
      "metadata": {
        "id": "alxop2-bTfsN",
        "colab_type": "text"
      },
      "source": [
        "Compared with other types of machine learning models, an advantages of\n",
        "trees is their abaility to handle many types of data without preprocessing. This makes normalization or standardization of features redundant. To check for extremes within the data `wine$quality` is easily done by ploting a histogram:"
      ]
    },
    {
      "cell_type": "code",
      "metadata": {
        "id": "7pZGUcDqTe03",
        "colab_type": "code",
        "colab": {
          "base_uri": "https://localhost:8080/",
          "height": 437
        },
        "outputId": "b84b356d-38c9-4a7c-f3d7-78e94e6247d3"
      },
      "source": [
        "# the distribution of quality ratings\n",
        "hist(wine$quality)"
      ],
      "execution_count": null,
      "outputs": [
        {
          "output_type": "display_data",
          "data": {
            "image/png": "[encoded data removed]",
            "text/plain": [
              "Plot with title “Histogram of wine$quality”"
            ]
          },
          "metadata": {
            "tags": [],
            "image/png": {
              "width": 420,
              "height": 420
            },
            "text/plain": {
              "width": 420,
              "height": 420
            }
          }
        }
      ]
    },
    {
      "cell_type": "markdown",
      "metadata": {
        "id": "eMCQkQsGVUkg",
        "colab_type": "text"
      },
      "source": [
        "Alternatively, printing the summary of the `wine` dataset gives a neat look on the outliers and distribution of the data:"
      ]
    },
    {
      "cell_type": "code",
      "metadata": {
        "id": "4NUjjveGol6o",
        "colab_type": "code",
        "colab": {
          "base_uri": "https://localhost:8080/",
          "height": 399
        },
        "outputId": "cfd1ebe1-a6ce-423a-c46b-3af316768ce9"
      },
      "source": [
        "# summary statistics of the wine data\n",
        "summary(wine)"
      ],
      "execution_count": 50,
      "outputs": [
        {
          "output_type": "display_data",
          "data": {
            "text/plain": [
              " fixed.acidity    volatile.acidity  citric.acid     residual.sugar  \n",
              " Min.   : 3.800   Min.   :0.0800   Min.   :0.0000   Min.   : 0.600  \n",
              " 1st Qu.: 6.300   1st Qu.:0.2100   1st Qu.:0.2700   1st Qu.: 1.700  \n",
              " Median : 6.800   Median :0.2600   Median :0.3200   Median : 5.200  \n",
              " Mean   : 6.855   Mean   :0.2782   Mean   :0.3342   Mean   : 6.391  \n",
              " 3rd Qu.: 7.300   3rd Qu.:0.3200   3rd Qu.:0.3900   3rd Qu.: 9.900  \n",
              " Max.   :14.200   Max.   :1.1000   Max.   :1.6600   Max.   :65.800  \n",
              "   chlorides       free.sulfur.dioxide total.sulfur.dioxide    density      \n",
              " Min.   :0.00900   Min.   :  2.00      Min.   :  9.0        Min.   :0.9871  \n",
              " 1st Qu.:0.03600   1st Qu.: 23.00      1st Qu.:108.0        1st Qu.:0.9917  \n",
              " Median :0.04300   Median : 34.00      Median :134.0        Median :0.9937  \n",
              " Mean   :0.04577   Mean   : 35.31      Mean   :138.4        Mean   :0.9940  \n",
              " 3rd Qu.:0.05000   3rd Qu.: 46.00      3rd Qu.:167.0        3rd Qu.:0.9961  \n",
              " Max.   :0.34600   Max.   :289.00      Max.   :440.0        Max.   :1.0390  \n",
              "       pH          sulphates         alcohol         quality     \n",
              " Min.   :2.720   Min.   :0.2200   Min.   : 8.00   Min.   :3.000  \n",
              " 1st Qu.:3.090   1st Qu.:0.4100   1st Qu.: 9.50   1st Qu.:5.000  \n",
              " Median :3.180   Median :0.4700   Median :10.40   Median :6.000  \n",
              " Mean   :3.188   Mean   :0.4898   Mean   :10.51   Mean   :5.878  \n",
              " 3rd Qu.:3.280   3rd Qu.:0.5500   3rd Qu.:11.40   3rd Qu.:6.000  \n",
              " Max.   :3.820   Max.   :1.0800   Max.   :14.20   Max.   :9.000  "
            ]
          },
          "metadata": {
            "tags": []
          }
        }
      ]
    },
    {
      "cell_type": "markdown",
      "metadata": {
        "id": "Ux19HLLxV9-T",
        "colab_type": "text"
      },
      "source": [
        "As usual in machine learning tasks, the data should be divided into a training (75% of data) and a testing (25% of data) set. Because the wine dataset is already sorted randomly, the partition into two sets can be done as follows:"
      ]
    },
    {
      "cell_type": "code",
      "metadata": {
        "id": "p8WcgxNloml0",
        "colab_type": "code",
        "colab": {}
      },
      "source": [
        "# dividing into train and test data set\n",
        "wine_train <- wine[1:3750, ]\n",
        "wine_test <- wine[3751:4898, ]"
      ],
      "execution_count": 53,
      "outputs": []
    },
    {
      "cell_type": "markdown",
      "metadata": {
        "id": "_fdXNZMpWhw-",
        "colab_type": "text"
      },
      "source": [
        "#### **Step 2 - Training a model on the data**\n",
        "\n",
        "Firstly, the regression tree model will be trained. Even though any implementation of decision trees can be used to perform regression tree modeling, the package `rpart` offers a confident and easy implementation of regression trees. "
      ]
    },
    {
      "cell_type": "code",
      "metadata": {
        "id": "rVWxNuCgWms0",
        "colab_type": "code",
        "colab": {
          "base_uri": "https://localhost:8080/",
          "height": 72
        },
        "outputId": "074b375b-0851-47f5-fdab-18b160e09c5d"
      },
      "source": [
        "install.packages(\"rpart\")\n",
        "library(rpart)"
      ],
      "execution_count": 52,
      "outputs": [
        {
          "output_type": "stream",
          "text": [
            "Installing package into ‘/usr/local/lib/R/site-library’\n",
            "(as ‘lib’ is unspecified)\n",
            "\n"
          ],
          "name": "stderr"
        }
      ]
    },
    {
      "cell_type": "markdown",
      "metadata": {
        "id": "uwSkDK7cXvGl",
        "colab_type": "text"
      },
      "source": [
        "The interface of the R-formula allows for a specification which data should be used as predictors. In this case, `quality` is specified as the outcome variable while the dot `.` enables inclusion of all other columns from the `wine_train` data to be used as predictors. "
      ]
    },
    {
      "cell_type": "code",
      "metadata": {
        "id": "Rn2uml4sWnvB",
        "colab_type": "code",
        "colab": {
          "base_uri": "https://localhost:8080/",
          "height": 345
        },
        "outputId": "fbae0b2b-b057-4c98-bee0-4cdf00f83599"
      },
      "source": [
        "# regression tree using rpart\n",
        "m.rpart <- rpart(quality ~ ., data = wine_train)\n",
        "\n",
        "# get basic information about the tree\n",
        "m.rpart"
      ],
      "execution_count": null,
      "outputs": [
        {
          "output_type": "display_data",
          "data": {
            "text/plain": [
              "n= 3750 \n",
              "\n",
              "node), split, n, deviance, yval\n",
              "      * denotes terminal node\n",
              "\n",
              " 1) root 3750 2945.53200 5.870933  \n",
              "   2) alcohol< 10.85 2372 1418.86100 5.604975  \n",
              "     4) volatile.acidity>=0.2275 1611  821.30730 5.432030  \n",
              "       8) volatile.acidity>=0.3025 688  278.97670 5.255814 *\n",
              "       9) volatile.acidity< 0.3025 923  505.04230 5.563380 *\n",
              "     5) volatile.acidity< 0.2275 761  447.36400 5.971091 *\n",
              "   3) alcohol>=10.85 1378 1070.08200 6.328737  \n",
              "     6) free.sulfur.dioxide< 10.5 84   95.55952 5.369048 *\n",
              "     7) free.sulfur.dioxide>=10.5 1294  892.13600 6.391036  \n",
              "      14) alcohol< 11.76667 629  430.11130 6.173291  \n",
              "        28) volatile.acidity>=0.465 11   10.72727 4.545455 *\n",
              "        29) volatile.acidity< 0.465 618  389.71680 6.202265 *\n",
              "      15) alcohol>=11.76667 665  403.99400 6.596992 *"
            ]
          },
          "metadata": {
            "tags": []
          }
        }
      ]
    },
    {
      "cell_type": "markdown",
      "metadata": {
        "id": "LoB0DyiOX5EA",
        "colab_type": "text"
      },
      "source": [
        "The number of examples reaching the decision point is listed for each node in the tree. As an example, all 3'750 exmaples start at the root node. From these, 2'372 have alcohol < 10.85 and 1'378 have alcohol >= 10.85. All nodes containing an asteriks `*` are terminal or leaf nodes, meaning that they result in a prediction (listed here as `yval`). Taking node 5 as an example. The `yval` at node 5 equals 5.971091, meaning that when the tree is used for predictions, wine samnples with `alcohol` less than 10.85 and `volatilie.acidity` less than 0.2275 would hence be predicted to have a wine quality of 5.971091. Using the command `m.rpart` gives a more detailes summary of the tree's fit, including the mean squared error for each of the nodes and an overall measure of feature importance. "
      ]
    },
    {
      "cell_type": "code",
      "metadata": {
        "id": "RJsR48LVY_PP",
        "colab_type": "code",
        "colab": {
          "base_uri": "https://localhost:8080/",
          "height": 1000
        },
        "outputId": "b161b731-5f9e-40b5-9688-448b755ba904"
      },
      "source": [
        "# get more detailed information about the tree\n",
        "summary(m.rpart)"
      ],
      "execution_count": null,
      "outputs": [
        {
          "output_type": "stream",
          "text": [
            "Call:\n",
            "rpart(formula = quality ~ ., data = wine_train)\n",
            "  n= 3750 \n",
            "\n",
            "          CP nsplit rel error    xerror       xstd\n",
            "1 0.15501053      0 1.0000000 1.0008372 0.02447513\n",
            "2 0.05098911      1 0.8449895 0.8480716 0.02336074\n",
            "3 0.02796998      2 0.7940004 0.8033571 0.02276373\n",
            "4 0.01970128      3 0.7660304 0.7863347 0.02212072\n",
            "5 0.01265926      4 0.7463291 0.7591764 0.02081539\n",
            "6 0.01007193      5 0.7336698 0.7542249 0.02069456\n",
            "7 0.01000000      6 0.7235979 0.7485694 0.02070658\n",
            "\n",
            "Variable importance\n",
            "             alcohol              density     volatile.acidity \n",
            "                  34                   21                   15 \n",
            "           chlorides total.sulfur.dioxide  free.sulfur.dioxide \n",
            "                  11                    7                    6 \n",
            "      residual.sugar            sulphates          citric.acid \n",
            "                   3                    1                    1 \n",
            "\n",
            "Node number 1: 3750 observations,    complexity param=0.1550105\n",
            "  mean=5.870933, MSE=0.7854751 \n",
            "  left son=2 (2372 obs) right son=3 (1378 obs)\n",
            "  Primary splits:\n",
            "      alcohol              < 10.85    to the left,  improve=0.15501050, (0 missing)\n",
            "      density              < 0.992035 to the right, improve=0.10915940, (0 missing)\n",
            "      chlorides            < 0.0395   to the right, improve=0.07682258, (0 missing)\n",
            "      total.sulfur.dioxide < 158.5    to the right, improve=0.04089663, (0 missing)\n",
            "      citric.acid          < 0.235    to the left,  improve=0.03636458, (0 missing)\n",
            "  Surrogate splits:\n",
            "      density              < 0.991995 to the right, agree=0.869, adj=0.644, (0 split)\n",
            "      chlorides            < 0.0375   to the right, agree=0.757, adj=0.339, (0 split)\n",
            "      total.sulfur.dioxide < 103.5    to the right, agree=0.690, adj=0.155, (0 split)\n",
            "      residual.sugar       < 5.375    to the right, agree=0.667, adj=0.094, (0 split)\n",
            "      sulphates            < 0.345    to the right, agree=0.647, adj=0.038, (0 split)\n",
            "\n",
            "Node number 2: 2372 observations,    complexity param=0.05098911\n",
            "  mean=5.604975, MSE=0.5981709 \n",
            "  left son=4 (1611 obs) right son=5 (761 obs)\n",
            "  Primary splits:\n",
            "      volatile.acidity    < 0.2275   to the right, improve=0.10585250, (0 missing)\n",
            "      free.sulfur.dioxide < 13.5     to the left,  improve=0.03390500, (0 missing)\n",
            "      citric.acid         < 0.235    to the left,  improve=0.03204075, (0 missing)\n",
            "      alcohol             < 10.11667 to the left,  improve=0.03136524, (0 missing)\n",
            "      chlorides           < 0.0585   to the right, improve=0.01633599, (0 missing)\n",
            "  Surrogate splits:\n",
            "      pH                   < 3.485    to the left,  agree=0.694, adj=0.047, (0 split)\n",
            "      sulphates            < 0.755    to the left,  agree=0.685, adj=0.020, (0 split)\n",
            "      total.sulfur.dioxide < 105.5    to the right, agree=0.683, adj=0.011, (0 split)\n",
            "      residual.sugar       < 0.75     to the right, agree=0.681, adj=0.007, (0 split)\n",
            "      chlorides            < 0.0285   to the right, agree=0.680, adj=0.003, (0 split)\n",
            "\n",
            "Node number 3: 1378 observations,    complexity param=0.02796998\n",
            "  mean=6.328737, MSE=0.7765472 \n",
            "  left son=6 (84 obs) right son=7 (1294 obs)\n",
            "  Primary splits:\n",
            "      free.sulfur.dioxide  < 10.5     to the left,  improve=0.07699080, (0 missing)\n",
            "      alcohol              < 11.76667 to the left,  improve=0.06210660, (0 missing)\n",
            "      total.sulfur.dioxide < 67.5     to the left,  improve=0.04438619, (0 missing)\n",
            "      residual.sugar       < 1.375    to the left,  improve=0.02905351, (0 missing)\n",
            "      fixed.acidity        < 7.35     to the right, improve=0.02613259, (0 missing)\n",
            "  Surrogate splits:\n",
            "      total.sulfur.dioxide < 53.5     to the left,  agree=0.952, adj=0.214, (0 split)\n",
            "      volatile.acidity     < 0.875    to the right, agree=0.940, adj=0.024, (0 split)\n",
            "\n",
            "Node number 4: 1611 observations,    complexity param=0.01265926\n",
            "  mean=5.43203, MSE=0.5098121 \n",
            "  left son=8 (688 obs) right son=9 (923 obs)\n",
            "  Primary splits:\n",
            "      volatile.acidity    < 0.3025   to the right, improve=0.04540111, (0 missing)\n",
            "      alcohol             < 10.05    to the left,  improve=0.03874403, (0 missing)\n",
            "      free.sulfur.dioxide < 13.5     to the left,  improve=0.03338886, (0 missing)\n",
            "      chlorides           < 0.0495   to the right, improve=0.02574623, (0 missing)\n",
            "      citric.acid         < 0.195    to the left,  improve=0.02327981, (0 missing)\n",
            "  Surrogate splits:\n",
            "      citric.acid          < 0.215    to the left,  agree=0.633, adj=0.141, (0 split)\n",
            "      free.sulfur.dioxide  < 20.5     to the left,  agree=0.600, adj=0.063, (0 split)\n",
            "      chlorides            < 0.0595   to the right, agree=0.593, adj=0.047, (0 split)\n",
            "      residual.sugar       < 1.15     to the left,  agree=0.583, adj=0.023, (0 split)\n",
            "      total.sulfur.dioxide < 219.25   to the right, agree=0.582, adj=0.022, (0 split)\n",
            "\n",
            "Node number 5: 761 observations\n",
            "  mean=5.971091, MSE=0.5878633 \n",
            "\n",
            "Node number 6: 84 observations\n",
            "  mean=5.369048, MSE=1.137613 \n",
            "\n",
            "Node number 7: 1294 observations,    complexity param=0.01970128\n",
            "  mean=6.391036, MSE=0.6894405 \n",
            "  left son=14 (629 obs) right son=15 (665 obs)\n",
            "  Primary splits:\n",
            "      alcohol              < 11.76667 to the left,  improve=0.06504696, (0 missing)\n",
            "      chlorides            < 0.0395   to the right, improve=0.02758705, (0 missing)\n",
            "      fixed.acidity        < 7.35     to the right, improve=0.02750932, (0 missing)\n",
            "      pH                   < 3.055    to the left,  improve=0.02307356, (0 missing)\n",
            "      total.sulfur.dioxide < 191.5    to the right, improve=0.02186818, (0 missing)\n",
            "  Surrogate splits:\n",
            "      density              < 0.990885 to the right, agree=0.720, adj=0.424, (0 split)\n",
            "      volatile.acidity     < 0.2675   to the left,  agree=0.637, adj=0.253, (0 split)\n",
            "      chlorides            < 0.0365   to the right, agree=0.630, adj=0.238, (0 split)\n",
            "      residual.sugar       < 1.475    to the left,  agree=0.575, adj=0.126, (0 split)\n",
            "      total.sulfur.dioxide < 128.5    to the right, agree=0.574, adj=0.124, (0 split)\n",
            "\n",
            "Node number 8: 688 observations\n",
            "  mean=5.255814, MSE=0.4054895 \n",
            "\n",
            "Node number 9: 923 observations\n",
            "  mean=5.56338, MSE=0.5471747 \n",
            "\n",
            "Node number 14: 629 observations,    complexity param=0.01007193\n",
            "  mean=6.173291, MSE=0.6838017 \n",
            "  left son=28 (11 obs) right son=29 (618 obs)\n",
            "  Primary splits:\n",
            "      volatile.acidity     < 0.465    to the right, improve=0.06897561, (0 missing)\n",
            "      total.sulfur.dioxide < 200      to the right, improve=0.04223066, (0 missing)\n",
            "      residual.sugar       < 0.975    to the left,  improve=0.03061714, (0 missing)\n",
            "      fixed.acidity        < 7.35     to the right, improve=0.02978501, (0 missing)\n",
            "      sulphates            < 0.575    to the left,  improve=0.02165970, (0 missing)\n",
            "  Surrogate splits:\n",
            "      citric.acid          < 0.045    to the left,  agree=0.986, adj=0.182, (0 split)\n",
            "      total.sulfur.dioxide < 279.25   to the right, agree=0.986, adj=0.182, (0 split)\n",
            "\n",
            "Node number 15: 665 observations\n",
            "  mean=6.596992, MSE=0.6075098 \n",
            "\n",
            "Node number 28: 11 observations\n",
            "  mean=4.545455, MSE=0.9752066 \n",
            "\n",
            "Node number 29: 618 observations\n",
            "  mean=6.202265, MSE=0.6306098 \n",
            "\n"
          ],
          "name": "stdout"
        }
      ]
    },
    {
      "cell_type": "markdown",
      "metadata": {
        "id": "kAKojYKTYwi6",
        "colab_type": "text"
      },
      "source": [
        "##### **Visualizing decision trees**\n",
        "\n",
        "An easy way to understand decision trees is by visualising the output such that the containing information are conveniently displayed. Using the package `rpart.plot` by Stephen Milborrow provides an easy-to-use function:\n"
      ]
    },
    {
      "cell_type": "code",
      "metadata": {
        "id": "uSAwhBSHWnWm",
        "colab_type": "code",
        "colab": {
          "base_uri": "https://localhost:8080/",
          "height": 72
        },
        "outputId": "ab509bf7-295f-4a2c-89fd-1af2a2fbc31c"
      },
      "source": [
        "# use the rpart.plot package to create a visualization\n",
        "install.packages(\"rpart.plot\")\n",
        "library(rpart.plot)"
      ],
      "execution_count": 4,
      "outputs": [
        {
          "output_type": "stream",
          "text": [
            "Installing package into ‘/usr/local/lib/R/site-library’\n",
            "(as ‘lib’ is unspecified)\n",
            "\n"
          ],
          "name": "stderr"
        }
      ]
    },
    {
      "cell_type": "code",
      "metadata": {
        "id": "Nn7tVOTpZUFx",
        "colab_type": "code",
        "colab": {
          "base_uri": "https://localhost:8080/",
          "height": 135
        },
        "outputId": "649c2358-72d5-4b25-857d-6ae6bb26c6da"
      },
      "source": [
        "# a basic decision tree diagram\n",
        "rpart.plot(m.rpart, digits = 3)"
      ],
      "execution_count": 5,
      "outputs": [
        {
          "output_type": "error",
          "ename": "ERROR",
          "evalue": "ignored",
          "traceback": [
            "Error in rpart.plot(m.rpart, digits = 3): object 'm.rpart' not found\nTraceback:\n",
            "1. rpart.plot(m.rpart, digits = 3)"
          ]
        }
      ]
    },
    {
      "cell_type": "markdown",
      "metadata": {
        "id": "ft_KkL28ZiRu",
        "colab_type": "text"
      },
      "source": [
        "Additionally, many other aspects of the visualisation can be included, as shown in the following command:"
      ]
    },
    {
      "cell_type": "code",
      "metadata": {
        "id": "7SNjFt62ZxpN",
        "colab_type": "code",
        "colab": {
          "base_uri": "https://localhost:8080/",
          "height": 437
        },
        "outputId": "30fa7100-8008-40c4-f46e-4e9e88d737f7"
      },
      "source": [
        "# a few adjustments to the diagram\n",
        "rpart.plot(m.rpart, digits = 4, fallen.leaves = TRUE, type = 3, extra = 101)"
      ],
      "execution_count": null,
      "outputs": [
        {
          "output_type": "display_data",
          "data": {
            "image/png": "[encoded data removed]",
            "text/plain": [
              "plot without title"
            ]
          },
          "metadata": {
            "tags": [],
            "image/png": {
              "width": 420,
              "height": 420
            },
            "text/plain": {
              "width": 420,
              "height": 420
            }
          }
        }
      ]
    },
    {
      "cell_type": "markdown",
      "metadata": {
        "id": "5YOB1RrxZ-AU",
        "colab_type": "text"
      },
      "source": [
        "For instance, using the `fallen.leaves` command allows the leaf nodes to be aligned at the bottom of the plot, while the `type` and `extra` specify the labels of the parameters. The numbers 3 and 101 refer to specific style formats, which can be found in the command's documentation."
      ]
    },
    {
      "cell_type": "markdown",
      "metadata": {
        "id": "n5ucvZN-aHkR",
        "colab_type": "text"
      },
      "source": [
        "#### **Step 3 - evaluating model performance**\n",
        "\n",
        "As already used for multiple linear and nonlinear regressions, applying a model to do predictions is done in R by using the `predict()` function. The function returns by default the estimated numeric value for the outcome variable, which will be stored in a vector named `p.rpart`:"
      ]
    },
    {
      "cell_type": "code",
      "metadata": {
        "id": "e-7Wi02qbOJS",
        "colab_type": "code",
        "colab": {}
      },
      "source": [
        "# generate predictions for the testing dataset\n",
        "p.rpart <- predict(m.rpart, wine_test)"
      ],
      "execution_count": null,
      "outputs": []
    },
    {
      "cell_type": "markdown",
      "metadata": {
        "id": "HjfcS4QqbXRv",
        "colab_type": "text"
      },
      "source": [
        "Investing the predictions using the `summary` statistics however reveal a potential problem. The predictions fall on a much narrower range than the rue values:"
      ]
    },
    {
      "cell_type": "code",
      "metadata": {
        "id": "5ZgpTncJbN3j",
        "colab_type": "code",
        "colab": {
          "base_uri": "https://localhost:8080/",
          "height": 90
        },
        "outputId": "eba8b22c-a407-42a4-b355-2104df181907"
      },
      "source": [
        "# compare the distribution of predicted values vs. actual values\n",
        "summary(p.rpart)\n",
        "summary(wine_test$quality)"
      ],
      "execution_count": null,
      "outputs": [
        {
          "output_type": "display_data",
          "data": {
            "text/plain": [
              "   Min. 1st Qu.  Median    Mean 3rd Qu.    Max. \n",
              "  4.545   5.563   5.971   5.893   6.202   6.597 "
            ]
          },
          "metadata": {
            "tags": []
          }
        },
        {
          "output_type": "display_data",
          "data": {
            "text/plain": [
              "   Min. 1st Qu.  Median    Mean 3rd Qu.    Max. \n",
              "  3.000   5.000   6.000   5.901   6.000   9.000 "
            ]
          },
          "metadata": {
            "tags": []
          }
        }
      ]
    },
    {
      "cell_type": "markdown",
      "metadata": {
        "id": "rPLZZXQFccdc",
        "colab_type": "text"
      },
      "source": [
        "This `summary` suggests a possible good performance of the prediction when looking on the predictions between the first and third quartile, however it seems like the model does not identify the cases values very well. As already introduced in the first part, the correlation function `cor()` measures the relationship between two variables or vectors of equal-length. Using this correlation function can provide a simple way to gauge the model's performance. Applying `cor()` to the predicted and true values shows how well the predicted values correspond to the true values:"
      ]
    },
    {
      "cell_type": "code",
      "metadata": {
        "id": "msfcJJ2ZbNjY",
        "colab_type": "code",
        "colab": {
          "base_uri": "https://localhost:8080/",
          "height": 35
        },
        "outputId": "c60a7fe0-d27a-45c2-b8b9-9b301fda9ae1"
      },
      "source": [
        "# compare the correlation\n",
        "cor(p.rpart, wine_test$quality)"
      ],
      "execution_count": null,
      "outputs": [
        {
          "output_type": "display_data",
          "data": {
            "text/plain": [
              "[1] 0.5369525"
            ],
            "text/latex": "0.53695245485698",
            "text/markdown": "0.53695245485698",
            "text/html": [
              "0.53695245485698"
            ]
          },
          "metadata": {
            "tags": []
          }
        }
      ]
    },
    {
      "cell_type": "markdown",
      "metadata": {
        "id": "ohGyD9YReBBs",
        "colab_type": "text"
      },
      "source": [
        "A correlation value of 0.54 is certainly acceptable, but this result only indicates how strongly the predictions are related to the true value. It does not measure though how far off the predictions were from the true values.\n"
      ]
    },
    {
      "cell_type": "markdown",
      "metadata": {
        "id": "tGuzUHxPerVG",
        "colab_type": "text"
      },
      "source": [
        "##### **Measuring performance with the mean absolute error**\n",
        "\n",
        "Evaluating the model's performance include naturally also measuring the errors, i.e. how far on average its prediction was from the true value. One of such meachures is the **mean absolute error (MAE)** and is defined as follows:\n",
        "\n",
        "$$\n",
        "\\mathrm{MAE} = \\frac{1}{n}\\sum_{i=1}^{n}{|e_i|},\n",
        "$$\n",
        "\n",
        "where $|e_i|$ indicates the absolute value of the error of prediction $i$ and $n$ stands for the number of predictions. Recalling from part *regression modelling*, the error is simply the difference between the predicted and the actual value. This allows to create an own error-measuring function:"
      ]
    },
    {
      "cell_type": "code",
      "metadata": {
        "id": "-Wx0OW1feAr_",
        "colab_type": "code",
        "colab": {}
      },
      "source": [
        "# function to calculate the mean absolute error\n",
        "MAE <- function(actual, predicted) {\n",
        "  mean(abs(actual - predicted))  \n",
        "}"
      ],
      "execution_count": null,
      "outputs": []
    },
    {
      "cell_type": "markdown",
      "metadata": {
        "id": "Vpn4tcpxmPX3",
        "colab_type": "text"
      },
      "source": [
        "Applying this functin now the prediction done earlier results in an MAE of 0.587:"
      ]
    },
    {
      "cell_type": "code",
      "metadata": {
        "id": "qVnTlaWreAaO",
        "colab_type": "code",
        "colab": {
          "base_uri": "https://localhost:8080/",
          "height": 35
        },
        "outputId": "ecd06c28-34d6-4c95-af78-8ab10bf4f5f7"
      },
      "source": [
        "# mean absolute error between predicted and actual values\n",
        "MAE(p.rpart, wine_test$quality)"
      ],
      "execution_count": null,
      "outputs": [
        {
          "output_type": "display_data",
          "data": {
            "text/plain": [
              "[1] 0.5872652"
            ],
            "text/latex": "0.587265173945366",
            "text/markdown": "0.587265173945366",
            "text/html": [
              "0.587265173945366"
            ]
          },
          "metadata": {
            "tags": []
          }
        }
      ]
    },
    {
      "cell_type": "markdown",
      "metadata": {
        "id": "gQkrFJCynxhp",
        "colab_type": "text"
      },
      "source": [
        "On average, the difference between the values predicted by the model and the true quality ratings for the wine was about 0.59. Note that the quality rating ranges from 0 to 10, so this error seems acceptable. However, it is also important to point out that the most wines where ranging between the ratings 4 and 6. \n",
        "\n",
        "Therefore, a classifier that would do not more than predicting the mean value may still do failry well according to this metric. The mean quality rating in the training data is:"
      ]
    },
    {
      "cell_type": "code",
      "metadata": {
        "id": "bpVIM301eAHJ",
        "colab_type": "code",
        "colab": {
          "base_uri": "https://localhost:8080/",
          "height": 52
        },
        "outputId": "60a2bb26-5135-4a27-c2a6-ea09e4a51c80"
      },
      "source": [
        "# mean absolute error between actual values and mean value\n",
        "mean(wine_train$quality) # result = 5.87\n",
        "\n",
        "MAE(5.87, wine_test$quality)"
      ],
      "execution_count": null,
      "outputs": [
        {
          "output_type": "display_data",
          "data": {
            "text/plain": [
              "[1] 5.870933"
            ],
            "text/latex": "5.87093333333333",
            "text/markdown": "5.87093333333333",
            "text/html": [
              "5.87093333333333"
            ]
          },
          "metadata": {
            "tags": []
          }
        },
        {
          "output_type": "display_data",
          "data": {
            "text/plain": [
              "[1] 0.6722474"
            ],
            "text/latex": "0.672247386759582",
            "text/markdown": "0.672247386759582",
            "text/html": [
              "0.672247386759582"
            ]
          },
          "metadata": {
            "tags": []
          }
        }
      ]
    },
    {
      "cell_type": "markdown",
      "metadata": {
        "id": "xlwNz9ospS9S",
        "colab_type": "text"
      },
      "source": [
        "These results show that if for every wine sample the value 5.87 were predicted, the mean absolute error would be only 0.67, showint that the regression tree with a MAE of 0.59 comes closer on average to the true quality score than the imputed mean with a MAE of 0.67. "
      ]
    },
    {
      "cell_type": "markdown",
      "metadata": {
        "id": "GW7_PCfuqHLZ",
        "colab_type": "text"
      },
      "source": [
        "#### **Step 4 - improving model performance**\n",
        "\n",
        "Applying the model tree algorithm, which is a more complex application of trees to numeric prediction, can improve the performance the model. In contrast to regression trees, the model tree replaces the leaf nodes with regression models. This extension often leads to more accurate results compared to regression trees, which only use one single numeric value for the prediction at the leaf nodes. The algorithm **Cubist** is the curernt state-of-the-art in model trees, which itself is an enhancement of the M5 model tree algorithm. Without getting into depth about the implementation details of the models, what this algorithm basically does is building a decision tree, creating decision rules based on the branches of the tree and constructing a regression model at each of the leaf nodes. Heuristics such as pruning and boosting can be implemented to boost the quality of the predictions and smoothness across the range of predicted values. "
      ]
    },
    {
      "cell_type": "markdown",
      "metadata": {
        "id": "HoQduYg2OhTK",
        "colab_type": "text"
      },
      "source": [
        "To use the **Cubist** algorithm, the package `Cubist` must be installed and loaded firstly. Then, a new model will be created using the `cubist()` function, which will be names as `m.cubist`. Since this function does not accept the R formula syntax, it is necessary to specify the data frame columns used for the x independent variables and the y dependent variable. With the wine quality as the dependent variable y (to be predicted), residing in column 12, and using all other columns as predictors (except column 12), the full command is as follows:"
      ]
    },
    {
      "cell_type": "code",
      "metadata": {
        "id": "v14AW0XxPlcc",
        "colab_type": "code",
        "colab": {
          "base_uri": "https://localhost:8080/",
          "height": 72
        },
        "outputId": "87cd99c9-b753-4fe4-fbd5-fefc7e3c6fa4"
      },
      "source": [
        "# install and load the Cubist package\n",
        "install.packages(\"Cubist\")\n",
        "library(Cubist)"
      ],
      "execution_count": null,
      "outputs": [
        {
          "output_type": "stream",
          "text": [
            "Installing package into ‘/usr/local/lib/R/site-library’\n",
            "(as ‘lib’ is unspecified)\n",
            "\n"
          ],
          "name": "stderr"
        }
      ]
    },
    {
      "cell_type": "code",
      "metadata": {
        "id": "CQ-8PG-zbMDl",
        "colab_type": "code",
        "colab": {
          "base_uri": "https://localhost:8080/",
          "height": 181
        },
        "outputId": "acab0293-12cb-42da-815d-0221a4ac2192"
      },
      "source": [
        "# train a Cubist Model Tree\n",
        "m.cubist <- cubist(x = wine_train[-12], y = wine_train$quality)\n",
        "\n",
        "# display basic information about the model tree\n",
        "m.cubist"
      ],
      "execution_count": null,
      "outputs": [
        {
          "output_type": "display_data",
          "data": {
            "text/plain": [
              "\n",
              "Call:\n",
              "cubist.default(x = wine_train[-12], y = wine_train$quality)\n",
              "\n",
              "Number of samples: 3750 \n",
              "Number of predictors: 11 \n",
              "\n",
              "Number of committees: 1 \n",
              "Number of rules: 25 \n"
            ]
          },
          "metadata": {
            "tags": []
          }
        }
      ]
    },
    {
      "cell_type": "markdown",
      "metadata": {
        "id": "LPuNZdCVQoQw",
        "colab_type": "text"
      },
      "source": [
        "A total of 25 rules were generated by the algorithm to model the wine quality. Applying the `summary()` function to examine the tree, it will show the first few lines of the output, since the tree is very large:"
      ]
    },
    {
      "cell_type": "code",
      "metadata": {
        "id": "8TG_hlbhRuAt",
        "colab_type": "code",
        "colab": {
          "base_uri": "https://localhost:8080/",
          "height": 1000
        },
        "outputId": "9bae3ed6-3f70-47bc-cc35-bec5424371d4"
      },
      "source": [
        "# display the tree itself\n",
        "summary(m.cubist)"
      ],
      "execution_count": null,
      "outputs": [
        {
          "output_type": "display_data",
          "data": {
            "text/plain": [
              "\n",
              "Call:\n",
              "cubist.default(x = wine_train[-12], y = wine_train$quality)\n",
              "\n",
              "\n",
              "Cubist [Release 2.07 GPL Edition]  Tue Apr  7 01:32:12 2020\n",
              "---------------------------------\n",
              "\n",
              "    Target attribute `outcome'\n",
              "\n",
              "Read 3750 cases (12 attributes) from undefined.data\n",
              "\n",
              "Model:\n",
              "\n",
              "  Rule 1: [21 cases, mean 5.0, range 4 to 6, est err 0.5]\n",
              "\n",
              "    if\n",
              "\tfree.sulfur.dioxide > 30\n",
              "\ttotal.sulfur.dioxide > 195\n",
              "\ttotal.sulfur.dioxide <= 235\n",
              "\tsulphates > 0.64\n",
              "\talcohol > 9.1\n",
              "    then\n",
              "\toutcome = 573.6 + 0.0478 total.sulfur.dioxide - 573 density\n",
              "\t          - 0.788 alcohol + 0.186 residual.sugar - 4.73 volatile.acidity\n",
              "\n",
              "  Rule 2: [28 cases, mean 5.0, range 4 to 8, est err 0.7]\n",
              "\n",
              "    if\n",
              "\tvolatile.acidity > 0.31\n",
              "\tcitric.acid <= 0.36\n",
              "\tresidual.sugar <= 1.45\n",
              "\ttotal.sulfur.dioxide <= 97\n",
              "\talcohol > 9.1\n",
              "    then\n",
              "\toutcome = 168.2 + 4.75 citric.acid + 0.0123 total.sulfur.dioxide\n",
              "\t          - 170 density + 0.057 residual.sugar - 6.4 chlorides + 0.84 pH\n",
              "\t          + 0.14 fixed.acidity\n",
              "\n",
              "  Rule 3: [171 cases, mean 5.1, range 3 to 6, est err 0.3]\n",
              "\n",
              "    if\n",
              "\tvolatile.acidity > 0.205\n",
              "\tchlorides <= 0.054\n",
              "\tdensity <= 0.99839\n",
              "\talcohol <= 9.1\n",
              "    then\n",
              "\toutcome = 147.4 - 144 density + 0.08 residual.sugar + 0.117 alcohol\n",
              "\t          - 0.87 volatile.acidity - 0.09 pH - 0.01 fixed.acidity\n",
              "\n",
              "  Rule 4: [37 cases, mean 5.3, range 3 to 6, est err 0.5]\n",
              "\n",
              "    if\n",
              "\tfree.sulfur.dioxide > 30\n",
              "\ttotal.sulfur.dioxide > 235\n",
              "\talcohol > 9.1\n",
              "    then\n",
              "\toutcome = 19.5 - 0.013 total.sulfur.dioxide - 2.7 volatile.acidity\n",
              "\t          - 10 density + 0.005 residual.sugar + 0.008 alcohol\n",
              "\n",
              "  Rule 5: [64 cases, mean 5.3, range 5 to 6, est err 0.3]\n",
              "\n",
              "    if\n",
              "\tvolatile.acidity > 0.205\n",
              "\tresidual.sugar > 17.85\n",
              "    then\n",
              "\toutcome = -23.6 + 0.233 alcohol - 5.2 chlorides - 0.75 citric.acid\n",
              "\t          + 28 density - 0.81 volatile.acidity - 0.19 pH\n",
              "\t          - 0.002 residual.sugar\n",
              "\n",
              "  Rule 6: [56 cases, mean 5.3, range 4 to 7, est err 0.6]\n",
              "\n",
              "    if\n",
              "\tfixed.acidity <= 7.1\n",
              "\tvolatile.acidity > 0.205\n",
              "\tchlorides > 0.054\n",
              "\tdensity <= 0.99839\n",
              "\talcohol <= 9.1\n",
              "    then\n",
              "\toutcome = 40.6 + 0.374 alcohol - 1.62 volatile.acidity\n",
              "\t          + 0.026 residual.sugar - 38 density - 0.21 pH\n",
              "\t          - 0.01 fixed.acidity\n",
              "\n",
              "  Rule 7: [337 cases, mean 5.3, range 3 to 7, est err 0.4]\n",
              "\n",
              "    if\n",
              "\tfixed.acidity <= 7.8\n",
              "\tvolatile.acidity > 0.305\n",
              "\tchlorides <= 0.09\n",
              "\tfree.sulfur.dioxide <= 82.5\n",
              "\ttotal.sulfur.dioxide > 130\n",
              "\ttotal.sulfur.dioxide <= 235\n",
              "\tsulphates <= 0.64\n",
              "\talcohol <= 10.4\n",
              "    then\n",
              "\toutcome = -32.1 + 0.233 alcohol - 9.7 chlorides\n",
              "\t          + 0.0038 total.sulfur.dioxide - 0.0081 free.sulfur.dioxide\n",
              "\t          + 35 density + 0.81 volatile.acidity\n",
              "\n",
              "  Rule 8: [30 cases, mean 5.5, range 3 to 7, est err 0.5]\n",
              "\n",
              "    if\n",
              "\tfixed.acidity > 7.1\n",
              "\tvolatile.acidity > 0.205\n",
              "\tchlorides > 0.054\n",
              "\tdensity <= 0.99839\n",
              "\talcohol <= 9.1\n",
              "    then\n",
              "\toutcome = 244 - 1.56 fixed.acidity - 228 density\n",
              "\t          + 0.0252 free.sulfur.dioxide - 7.3 chlorides\n",
              "\t          - 0.19 volatile.acidity + 0.003 residual.sugar\n",
              "\n",
              "  Rule 9: [98 cases, mean 5.5, range 4 to 8, est err 0.5]\n",
              "\n",
              "    if\n",
              "\tvolatile.acidity > 0.155\n",
              "\tchlorides > 0.09\n",
              "\ttotal.sulfur.dioxide <= 235\n",
              "\tsulphates <= 0.64\n",
              "    then\n",
              "\toutcome = 55.9 - 3.85 volatile.acidity - 52 density\n",
              "\t          + 0.023 residual.sugar + 0.092 alcohol + 0.35 pH\n",
              "\t          + 0.05 fixed.acidity + 0.3 sulphates\n",
              "\t          + 0.001 free.sulfur.dioxide\n",
              "\n",
              "  Rule 10: [446 cases, mean 5.6, range 4 to 8, est err 0.5]\n",
              "\n",
              "    if\n",
              "\tfixed.acidity <= 7.8\n",
              "\tvolatile.acidity > 0.155\n",
              "\tvolatile.acidity <= 0.305\n",
              "\tchlorides <= 0.09\n",
              "\tfree.sulfur.dioxide <= 82.5\n",
              "\ttotal.sulfur.dioxide > 130\n",
              "\ttotal.sulfur.dioxide <= 235\n",
              "\tsulphates <= 0.64\n",
              "\talcohol > 9.1\n",
              "\talcohol <= 10.4\n",
              "    then\n",
              "\toutcome = 15.1 + 0.35 alcohol - 3.09 volatile.acidity - 14.7 chlorides\n",
              "\t          + 1.16 sulphates - 0.0022 total.sulfur.dioxide\n",
              "\t          + 0.11 fixed.acidity + 0.45 pH + 0.5 citric.acid - 14 density\n",
              "\t          + 0.006 residual.sugar\n",
              "\n",
              "  Rule 11: [31 cases, mean 5.6, range 3 to 8, est err 0.8]\n",
              "\n",
              "    if\n",
              "\tvolatile.acidity > 0.31\n",
              "\tcitric.acid > 0.36\n",
              "\tfree.sulfur.dioxide <= 30\n",
              "\ttotal.sulfur.dioxide <= 97\n",
              "    then\n",
              "\toutcome = 3.2 + 0.0584 total.sulfur.dioxide + 7.77 volatile.acidity\n",
              "\t          + 0.328 alcohol - 9 density + 0.003 residual.sugar\n",
              "\n",
              "  Rule 12: [20 cases, mean 5.7, range 3 to 8, est err 0.9]\n",
              "\n",
              "    if\n",
              "\tfree.sulfur.dioxide > 82.5\n",
              "\ttotal.sulfur.dioxide <= 235\n",
              "\tsulphates <= 0.64\n",
              "\talcohol > 9.1\n",
              "    then\n",
              "\toutcome = -8.9 + 109.3 chlorides + 0.948 alcohol\n",
              "\n",
              "  Rule 13: [331 cases, mean 5.8, range 4 to 8, est err 0.5]\n",
              "\n",
              "    if\n",
              "\tvolatile.acidity > 0.31\n",
              "\tfree.sulfur.dioxide <= 30\n",
              "\ttotal.sulfur.dioxide > 97\n",
              "\talcohol > 9.1\n",
              "    then\n",
              "\toutcome = 89.8 + 0.0234 free.sulfur.dioxide + 0.324 alcohol\n",
              "\t          + 0.07 residual.sugar - 90 density - 1.47 volatile.acidity\n",
              "\t          + 0.48 pH\n",
              "\n",
              "  Rule 14: [116 cases, mean 5.8, range 3 to 8, est err 0.6]\n",
              "\n",
              "    if\n",
              "\tfixed.acidity > 7.8\n",
              "\tvolatile.acidity > 0.155\n",
              "\tfree.sulfur.dioxide > 30\n",
              "\ttotal.sulfur.dioxide > 130\n",
              "\ttotal.sulfur.dioxide <= 235\n",
              "\tsulphates <= 0.64\n",
              "\talcohol > 9.1\n",
              "    then\n",
              "\toutcome = 6 + 0.346 alcohol - 0.41 fixed.acidity - 1.69 volatile.acidity\n",
              "\t          - 2.9 chlorides + 0.19 sulphates + 0.07 pH\n",
              "\n",
              "  Rule 15: [115 cases, mean 5.8, range 4 to 7, est err 0.5]\n",
              "\n",
              "    if\n",
              "\tvolatile.acidity > 0.205\n",
              "\tresidual.sugar <= 17.85\n",
              "\tdensity > 0.99839\n",
              "\talcohol <= 9.1\n",
              "    then\n",
              "\toutcome = -110.2 + 120 density - 3.46 volatile.acidity - 0.97 pH\n",
              "\t          - 0.022 residual.sugar + 0.088 alcohol - 0.6 citric.acid\n",
              "\t          - 0.01 fixed.acidity\n",
              "\n",
              "  Rule 16: [986 cases, mean 5.9, range 3 to 9, est err 0.6]\n",
              "\n",
              "    if\n",
              "\tvolatile.acidity <= 0.31\n",
              "\tfree.sulfur.dioxide <= 30\n",
              "\talcohol > 9.1\n",
              "    then\n",
              "\toutcome = 280.4 - 282 density + 0.128 residual.sugar\n",
              "\t          + 0.0264 free.sulfur.dioxide - 3 volatile.acidity + 1.2 pH\n",
              "\t          + 0.65 citric.acid + 0.09 fixed.acidity + 0.56 sulphates\n",
              "\t          + 0.015 alcohol\n",
              "\n",
              "  Rule 17: [49 cases, mean 6.0, range 5 to 8, est err 0.5]\n",
              "\n",
              "    if\n",
              "\tvolatile.acidity > 0.155\n",
              "\tresidual.sugar > 8.8\n",
              "\tfree.sulfur.dioxide > 30\n",
              "\ttotal.sulfur.dioxide <= 130\n",
              "\tpH <= 3.26\n",
              "\talcohol > 9.1\n",
              "    then\n",
              "\toutcome = 173.5 - 169 density + 0.055 alcohol + 0.38 sulphates\n",
              "\t          + 0.002 residual.sugar\n",
              "\n",
              "  Rule 18: [114 cases, mean 6.1, range 3 to 9, est err 0.6]\n",
              "\n",
              "    if\n",
              "\tvolatile.acidity > 0.31\n",
              "\tcitric.acid <= 0.36\n",
              "\tresidual.sugar > 1.45\n",
              "\ttotal.sulfur.dioxide <= 97\n",
              "\talcohol > 9.1\n",
              "    then\n",
              "\toutcome = 302.3 - 305 density + 0.0128 total.sulfur.dioxide\n",
              "\t          + 0.096 residual.sugar + 1.94 citric.acid + 1.05 pH\n",
              "\t          + 0.17 fixed.acidity - 6.7 chlorides\n",
              "\t          + 0.0022 free.sulfur.dioxide - 0.21 volatile.acidity\n",
              "\t          + 0.013 alcohol + 0.09 sulphates\n",
              "\n",
              "  Rule 19: [145 cases, mean 6.1, range 5 to 8, est err 0.6]\n",
              "\n",
              "    if\n",
              "\tvolatile.acidity > 0.155\n",
              "\tfree.sulfur.dioxide > 30\n",
              "\ttotal.sulfur.dioxide <= 195\n",
              "\tsulphates > 0.64\n",
              "    then\n",
              "\toutcome = 206 - 209 density + 0.069 residual.sugar + 0.38 fixed.acidity\n",
              "\t          + 2.79 sulphates + 0.0155 free.sulfur.dioxide\n",
              "\t          - 0.0051 total.sulfur.dioxide - 1.71 citric.acid + 1.04 pH\n",
              "\n",
              "  Rule 20: [555 cases, mean 6.1, range 3 to 9, est err 0.6]\n",
              "\n",
              "    if\n",
              "\ttotal.sulfur.dioxide > 130\n",
              "\ttotal.sulfur.dioxide <= 235\n",
              "\tsulphates <= 0.64\n",
              "\talcohol > 10.4\n",
              "    then\n",
              "\toutcome = 108 + 0.276 alcohol - 109 density + 0.05 residual.sugar\n",
              "\t          + 0.77 pH - 1.02 volatile.acidity - 4.2 chlorides\n",
              "\t          + 0.78 sulphates + 0.08 fixed.acidity\n",
              "\t          + 0.0016 free.sulfur.dioxide - 0.0003 total.sulfur.dioxide\n",
              "\n",
              "  Rule 21: [73 cases, mean 6.2, range 4 to 8, est err 0.4]\n",
              "\n",
              "    if\n",
              "\tvolatile.acidity > 0.155\n",
              "\tcitric.acid <= 0.28\n",
              "\tresidual.sugar <= 8.8\n",
              "\tfree.sulfur.dioxide > 30\n",
              "\ttotal.sulfur.dioxide <= 130\n",
              "\tpH <= 3.26\n",
              "\tsulphates <= 0.64\n",
              "\talcohol > 9.1\n",
              "    then\n",
              "\toutcome = 4.2 + 0.147 residual.sugar + 0.47 alcohol + 3.75 sulphates\n",
              "\t          - 2.5 volatile.acidity - 5 density\n",
              "\n",
              "  Rule 22: [244 cases, mean 6.3, range 4 to 8, est err 0.6]\n",
              "\n",
              "    if\n",
              "\tcitric.acid > 0.28\n",
              "\tresidual.sugar <= 8.8\n",
              "\tfree.sulfur.dioxide > 30\n",
              "\ttotal.sulfur.dioxide <= 130\n",
              "\tpH <= 3.26\n",
              "    then\n",
              "\toutcome = 40.1 + 0.278 alcohol + 1.3 sulphates - 39 density\n",
              "\t          + 0.017 residual.sugar + 0.001 total.sulfur.dioxide + 0.17 pH\n",
              "\t          + 0.03 fixed.acidity\n",
              "\n",
              "  Rule 23: [106 cases, mean 6.3, range 4 to 8, est err 0.6]\n",
              "\n",
              "    if\n",
              "\tvolatile.acidity <= 0.155\n",
              "\tfree.sulfur.dioxide > 30\n",
              "    then\n",
              "\toutcome = 139.1 - 138 density + 0.058 residual.sugar + 0.71 pH\n",
              "\t          + 0.92 sulphates + 0.11 fixed.acidity - 0.73 volatile.acidity\n",
              "\t          + 0.055 alcohol - 0.0012 total.sulfur.dioxide\n",
              "\t          + 0.0007 free.sulfur.dioxide\n",
              "\n",
              "  Rule 24: [137 cases, mean 6.5, range 4 to 9, est err 0.6]\n",
              "\n",
              "    if\n",
              "\tvolatile.acidity > 0.155\n",
              "\tfree.sulfur.dioxide > 30\n",
              "\ttotal.sulfur.dioxide <= 130\n",
              "\tpH > 3.26\n",
              "\tsulphates <= 0.64\n",
              "\talcohol > 9.1\n",
              "    then\n",
              "\toutcome = 114.2 + 0.0142 total.sulfur.dioxide - 107 density\n",
              "\t          - 11.8 chlorides - 1.57 pH + 0.124 alcohol + 1.21 sulphates\n",
              "\t          + 1.16 volatile.acidity + 0.021 residual.sugar\n",
              "\t          + 0.04 fixed.acidity\n",
              "\n",
              "  Rule 25: [92 cases, mean 6.5, range 4 to 8, est err 0.6]\n",
              "\n",
              "    if\n",
              "\tvolatile.acidity <= 0.205\n",
              "\talcohol <= 9.1\n",
              "    then\n",
              "\toutcome = -200.7 + 210 density + 5.88 volatile.acidity + 23.9 chlorides\n",
              "\t          - 2.83 citric.acid - 1.17 pH\n",
              "\n",
              "\n",
              "Evaluation on training data (3750 cases):\n",
              "\n",
              "    Average  |error|                0.5\n",
              "    Relative |error|               0.67\n",
              "    Correlation coefficient        0.66\n",
              "\n",
              "\n",
              "\tAttribute usage:\n",
              "\t  Conds  Model\n",
              "\n",
              "\t   84%    93%    alcohol\n",
              "\t   80%    89%    volatile.acidity\n",
              "\t   70%    61%    free.sulfur.dioxide\n",
              "\t   63%    50%    total.sulfur.dioxide\n",
              "\t   44%    70%    sulphates\n",
              "\t   26%    44%    chlorides\n",
              "\t   22%    76%    fixed.acidity\n",
              "\t   16%    87%    residual.sugar\n",
              "\t   11%    86%    pH\n",
              "\t   11%    45%    citric.acid\n",
              "\t    8%    97%    density\n",
              "\n",
              "\n",
              "Time: 0.3 secs\n"
            ]
          },
          "metadata": {
            "tags": []
          }
        }
      ]
    },
    {
      "cell_type": "markdown",
      "metadata": {
        "id": "kizgYzpISGpA",
        "colab_type": "text"
      },
      "source": [
        "From this summary it is apparent, that the `if` portion of the output is somewhat similar to the regression tree built earlier. The wine properties sulfur dioxide, sulphates, and alcohol trigger a rule culminating in the final prediction. The outcome however returns a linear model, in contrast to the earlier regression tree which terminated a numeric prediction. This linear model is shown in the `then` output following the `outcome =` statement. The interpretation follows the same logic as for multiple linear regression models. Each value is the estimated beta of the associated feature which is the net effect of that feature on the predicted wine quality. For instance, the coefficient -0.788 for alcohol implies that for an increase of one unit of alcohol, the wine quality rating is predicted to decrease by 0.788.\n",
        "\n",
        "An important remark here: note that these regression effects estimated by this model apply only to wine samples reaching this node, that is for wine samples that satisfy the if-statements:\n",
        "`free.sulfur.dioxide > 30,\n",
        "\ttotal.sulfur.dioxide > 195,\n",
        "\ttotal.sulfur.dioxide <= 235,\n",
        "\tsulphates > 0.64,\n",
        "\talcohol > 9.1`\n",
        "Examining the entire summary of the `m.cubist` model shows that a total of 25 linear models were built in this model tree. One linear model for each decision rule and each decision rule with different parameter estimates of the impact of alcohol and the ten other features.  "
      ]
    },
    {
      "cell_type": "markdown",
      "metadata": {
        "id": "th8l70pWWRzX",
        "colab_type": "text"
      },
      "source": [
        "Now, analysing the performance of the Cubist model tree, a test on the unseen test data is useful. The `predict()` function gets a vector of predicted values:"
      ]
    },
    {
      "cell_type": "code",
      "metadata": {
        "id": "qiQ-kwjqW7Bd",
        "colab_type": "code",
        "colab": {
          "base_uri": "https://localhost:8080/",
          "height": 54
        },
        "outputId": "8ada6df6-f2a5-498c-9115-fcc0e18f9392"
      },
      "source": [
        "# generate predictions for the model\n",
        "p.cubist <- predict(m.cubist, wine_test)\n",
        "\n",
        "# summary statistics about the predictions\n",
        "summary(p.cubist)"
      ],
      "execution_count": null,
      "outputs": [
        {
          "output_type": "display_data",
          "data": {
            "text/plain": [
              "   Min. 1st Qu.  Median    Mean 3rd Qu.    Max. \n",
              "  3.677   5.416   5.906   5.848   6.238   7.393 "
            ]
          },
          "metadata": {
            "tags": []
          }
        }
      ]
    },
    {
      "cell_type": "markdown",
      "metadata": {
        "id": "C2unSgetXBhz",
        "colab_type": "text"
      },
      "source": [
        "It seems like the model tree predicts a wider range of values than the regression tree. Also, calculating the correlation and the mean absolute error shows the improvement aswell, since the correlation is substantially higher and the mean absolute error slightly lower:"
      ]
    },
    {
      "cell_type": "code",
      "metadata": {
        "id": "t0xoj60yXbjW",
        "colab_type": "code",
        "colab": {
          "base_uri": "https://localhost:8080/",
          "height": 52
        },
        "outputId": "1351059d-4391-42aa-c52c-b0de43f0e765"
      },
      "source": [
        "# correlation between the predicted and true values\n",
        "cor(p.cubist, wine_test$quality)\n",
        "# mean absolute error of predicted and true values\n",
        "# (uses a custom function defined above)\n",
        "MAE(wine_test$quality, p.cubist)"
      ],
      "execution_count": null,
      "outputs": [
        {
          "output_type": "display_data",
          "data": {
            "text/plain": [
              "[1] 0.6201015"
            ],
            "text/latex": "0.620101458042146",
            "text/markdown": "0.620101458042146",
            "text/html": [
              "0.620101458042146"
            ]
          },
          "metadata": {
            "tags": []
          }
        },
        {
          "output_type": "display_data",
          "data": {
            "text/plain": [
              "[1] 0.5339725"
            ],
            "text/latex": "0.533972496978082",
            "text/markdown": "0.533972496978082",
            "text/html": [
              "0.533972496978082"
            ]
          },
          "metadata": {
            "tags": []
          }
        }
      ]
    },
    {
      "cell_type": "markdown",
      "metadata": {
        "id": "d6jU8XotXhmE",
        "colab_type": "text"
      },
      "source": [
        "Whilst not improving substantially beyond the regression tree, the model's performance surpassed the one of the neural network and is getting closer to the results of the support vector machine model while using a much simpler learning method, according to the author. "
      ]
    }
  ]
}